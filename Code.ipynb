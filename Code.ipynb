{
 "cells": [
  {
   "cell_type": "code",
   "execution_count": 7,
   "id": "511db88b",
   "metadata": {
    "_cell_guid": "b1076dfc-b9ad-4769-8c92-a6c4dae69d19",
    "_uuid": "8f2839f25d086af736a60e9eeb907d3b93b6e0e5",
    "execution": {
     "iopub.execute_input": "2024-10-27T01:36:37.601338Z",
     "iopub.status.busy": "2024-10-27T01:36:37.600971Z",
     "iopub.status.idle": "2024-10-27T01:36:39.637494Z",
     "shell.execute_reply": "2024-10-27T01:36:39.636608Z"
    },
    "papermill": {
     "duration": 2.053985,
     "end_time": "2024-10-27T01:36:39.639695",
     "exception": false,
     "start_time": "2024-10-27T01:36:37.585710",
     "status": "completed"
    },
    "tags": []
   },
   "outputs": [],
   "source": [
    "#important libraries have beem imported\n",
    "import numpy as np \n",
    "import pandas as pd \n",
    "import matplotlib.pyplot as plt\n",
    "import seaborn as sns\n",
    "from scipy import stats\n",
    "from scipy.stats import chi2_contingency"
   ]
  },
  {
   "cell_type": "code",
   "execution_count": 8,
   "id": "a5306bbf",
   "metadata": {
    "execution": {
     "iopub.execute_input": "2024-10-27T01:36:39.669694Z",
     "iopub.status.busy": "2024-10-27T01:36:39.669238Z",
     "iopub.status.idle": "2024-10-27T01:36:40.455523Z",
     "shell.execute_reply": "2024-10-27T01:36:40.454605Z"
    },
    "papermill": {
     "duration": 0.803933,
     "end_time": "2024-10-27T01:36:40.458037",
     "exception": false,
     "start_time": "2024-10-27T01:36:39.654104",
     "status": "completed"
    },
    "tags": []
   },
   "outputs": [
    {
     "data": {
      "text/html": [
       "<div>\n",
       "<style scoped>\n",
       "    .dataframe tbody tr th:only-of-type {\n",
       "        vertical-align: middle;\n",
       "    }\n",
       "\n",
       "    .dataframe tbody tr th {\n",
       "        vertical-align: top;\n",
       "    }\n",
       "\n",
       "    .dataframe thead th {\n",
       "        text-align: right;\n",
       "    }\n",
       "</style>\n",
       "<table border=\"1\" class=\"dataframe\">\n",
       "  <thead>\n",
       "    <tr style=\"text-align: right;\">\n",
       "      <th></th>\n",
       "      <th>Diabetes_binary</th>\n",
       "      <th>HighBP</th>\n",
       "      <th>HighChol</th>\n",
       "      <th>CholCheck</th>\n",
       "      <th>BMI</th>\n",
       "      <th>Smoker</th>\n",
       "      <th>Stroke</th>\n",
       "      <th>HeartDiseaseorAttack</th>\n",
       "      <th>PhysActivity</th>\n",
       "      <th>Fruits</th>\n",
       "      <th>...</th>\n",
       "      <th>AnyHealthcare</th>\n",
       "      <th>NoDocbcCost</th>\n",
       "      <th>GenHlth</th>\n",
       "      <th>MentHlth</th>\n",
       "      <th>PhysHlth</th>\n",
       "      <th>DiffWalk</th>\n",
       "      <th>Sex</th>\n",
       "      <th>Age</th>\n",
       "      <th>Education</th>\n",
       "      <th>Income</th>\n",
       "    </tr>\n",
       "  </thead>\n",
       "  <tbody>\n",
       "    <tr>\n",
       "      <th>0</th>\n",
       "      <td>0.0</td>\n",
       "      <td>1.0</td>\n",
       "      <td>1.0</td>\n",
       "      <td>1.0</td>\n",
       "      <td>40.0</td>\n",
       "      <td>1.0</td>\n",
       "      <td>0.0</td>\n",
       "      <td>0.0</td>\n",
       "      <td>0.0</td>\n",
       "      <td>0.0</td>\n",
       "      <td>...</td>\n",
       "      <td>1.0</td>\n",
       "      <td>0.0</td>\n",
       "      <td>5.0</td>\n",
       "      <td>18.0</td>\n",
       "      <td>15.0</td>\n",
       "      <td>1.0</td>\n",
       "      <td>0.0</td>\n",
       "      <td>9.0</td>\n",
       "      <td>4.0</td>\n",
       "      <td>3.0</td>\n",
       "    </tr>\n",
       "    <tr>\n",
       "      <th>1</th>\n",
       "      <td>0.0</td>\n",
       "      <td>0.0</td>\n",
       "      <td>0.0</td>\n",
       "      <td>0.0</td>\n",
       "      <td>25.0</td>\n",
       "      <td>1.0</td>\n",
       "      <td>0.0</td>\n",
       "      <td>0.0</td>\n",
       "      <td>1.0</td>\n",
       "      <td>0.0</td>\n",
       "      <td>...</td>\n",
       "      <td>0.0</td>\n",
       "      <td>1.0</td>\n",
       "      <td>3.0</td>\n",
       "      <td>0.0</td>\n",
       "      <td>0.0</td>\n",
       "      <td>0.0</td>\n",
       "      <td>0.0</td>\n",
       "      <td>7.0</td>\n",
       "      <td>6.0</td>\n",
       "      <td>1.0</td>\n",
       "    </tr>\n",
       "    <tr>\n",
       "      <th>2</th>\n",
       "      <td>0.0</td>\n",
       "      <td>1.0</td>\n",
       "      <td>1.0</td>\n",
       "      <td>1.0</td>\n",
       "      <td>28.0</td>\n",
       "      <td>0.0</td>\n",
       "      <td>0.0</td>\n",
       "      <td>0.0</td>\n",
       "      <td>0.0</td>\n",
       "      <td>1.0</td>\n",
       "      <td>...</td>\n",
       "      <td>1.0</td>\n",
       "      <td>1.0</td>\n",
       "      <td>5.0</td>\n",
       "      <td>30.0</td>\n",
       "      <td>30.0</td>\n",
       "      <td>1.0</td>\n",
       "      <td>0.0</td>\n",
       "      <td>9.0</td>\n",
       "      <td>4.0</td>\n",
       "      <td>8.0</td>\n",
       "    </tr>\n",
       "    <tr>\n",
       "      <th>3</th>\n",
       "      <td>0.0</td>\n",
       "      <td>1.0</td>\n",
       "      <td>0.0</td>\n",
       "      <td>1.0</td>\n",
       "      <td>27.0</td>\n",
       "      <td>0.0</td>\n",
       "      <td>0.0</td>\n",
       "      <td>0.0</td>\n",
       "      <td>1.0</td>\n",
       "      <td>1.0</td>\n",
       "      <td>...</td>\n",
       "      <td>1.0</td>\n",
       "      <td>0.0</td>\n",
       "      <td>2.0</td>\n",
       "      <td>0.0</td>\n",
       "      <td>0.0</td>\n",
       "      <td>0.0</td>\n",
       "      <td>0.0</td>\n",
       "      <td>11.0</td>\n",
       "      <td>3.0</td>\n",
       "      <td>6.0</td>\n",
       "    </tr>\n",
       "    <tr>\n",
       "      <th>4</th>\n",
       "      <td>0.0</td>\n",
       "      <td>1.0</td>\n",
       "      <td>1.0</td>\n",
       "      <td>1.0</td>\n",
       "      <td>24.0</td>\n",
       "      <td>0.0</td>\n",
       "      <td>0.0</td>\n",
       "      <td>0.0</td>\n",
       "      <td>1.0</td>\n",
       "      <td>1.0</td>\n",
       "      <td>...</td>\n",
       "      <td>1.0</td>\n",
       "      <td>0.0</td>\n",
       "      <td>2.0</td>\n",
       "      <td>3.0</td>\n",
       "      <td>0.0</td>\n",
       "      <td>0.0</td>\n",
       "      <td>0.0</td>\n",
       "      <td>11.0</td>\n",
       "      <td>5.0</td>\n",
       "      <td>4.0</td>\n",
       "    </tr>\n",
       "  </tbody>\n",
       "</table>\n",
       "<p>5 rows × 22 columns</p>\n",
       "</div>"
      ],
      "text/plain": [
       "   Diabetes_binary  HighBP  HighChol  CholCheck   BMI  Smoker  Stroke  \\\n",
       "0              0.0     1.0       1.0        1.0  40.0     1.0     0.0   \n",
       "1              0.0     0.0       0.0        0.0  25.0     1.0     0.0   \n",
       "2              0.0     1.0       1.0        1.0  28.0     0.0     0.0   \n",
       "3              0.0     1.0       0.0        1.0  27.0     0.0     0.0   \n",
       "4              0.0     1.0       1.0        1.0  24.0     0.0     0.0   \n",
       "\n",
       "   HeartDiseaseorAttack  PhysActivity  Fruits  ...  AnyHealthcare  \\\n",
       "0                   0.0           0.0     0.0  ...            1.0   \n",
       "1                   0.0           1.0     0.0  ...            0.0   \n",
       "2                   0.0           0.0     1.0  ...            1.0   \n",
       "3                   0.0           1.0     1.0  ...            1.0   \n",
       "4                   0.0           1.0     1.0  ...            1.0   \n",
       "\n",
       "   NoDocbcCost  GenHlth  MentHlth  PhysHlth  DiffWalk  Sex   Age  Education  \\\n",
       "0          0.0      5.0      18.0      15.0       1.0  0.0   9.0        4.0   \n",
       "1          1.0      3.0       0.0       0.0       0.0  0.0   7.0        6.0   \n",
       "2          1.0      5.0      30.0      30.0       1.0  0.0   9.0        4.0   \n",
       "3          0.0      2.0       0.0       0.0       0.0  0.0  11.0        3.0   \n",
       "4          0.0      2.0       3.0       0.0       0.0  0.0  11.0        5.0   \n",
       "\n",
       "   Income  \n",
       "0     3.0  \n",
       "1     1.0  \n",
       "2     8.0  \n",
       "3     6.0  \n",
       "4     4.0  \n",
       "\n",
       "[5 rows x 22 columns]"
      ]
     },
     "execution_count": 8,
     "metadata": {},
     "output_type": "execute_result"
    }
   ],
   "source": [
    "# Load the dataset\n",
    "df = pd.read_csv(r\"C:\\Users\\Keshavi\\Downloads\\diabetes_app\\diabetes_binary_health_indicators_BRFSS2015.csv\")\n",
    "df.head()"
   ]
  },
  {
   "cell_type": "code",
   "execution_count": 9,
   "id": "fcc1cf2b",
   "metadata": {
    "execution": {
     "iopub.execute_input": "2024-10-27T01:36:40.489654Z",
     "iopub.status.busy": "2024-10-27T01:36:40.489270Z",
     "iopub.status.idle": "2024-10-27T01:36:40.520709Z",
     "shell.execute_reply": "2024-10-27T01:36:40.519262Z"
    },
    "papermill": {
     "duration": 0.049241,
     "end_time": "2024-10-27T01:36:40.522755",
     "exception": false,
     "start_time": "2024-10-27T01:36:40.473514",
     "status": "completed"
    },
    "tags": []
   },
   "outputs": [
    {
     "name": "stdout",
     "output_type": "stream",
     "text": [
      "<class 'pandas.core.frame.DataFrame'>\n",
      "RangeIndex: 253680 entries, 0 to 253679\n",
      "Data columns (total 22 columns):\n",
      " #   Column                Non-Null Count   Dtype  \n",
      "---  ------                --------------   -----  \n",
      " 0   Diabetes_binary       253680 non-null  float64\n",
      " 1   HighBP                253680 non-null  float64\n",
      " 2   HighChol              253680 non-null  float64\n",
      " 3   CholCheck             253680 non-null  float64\n",
      " 4   BMI                   253680 non-null  float64\n",
      " 5   Smoker                253680 non-null  float64\n",
      " 6   Stroke                253680 non-null  float64\n",
      " 7   HeartDiseaseorAttack  253680 non-null  float64\n",
      " 8   PhysActivity          253680 non-null  float64\n",
      " 9   Fruits                253680 non-null  float64\n",
      " 10  Veggies               253680 non-null  float64\n",
      " 11  HvyAlcoholConsump     253680 non-null  float64\n",
      " 12  AnyHealthcare         253680 non-null  float64\n",
      " 13  NoDocbcCost           253680 non-null  float64\n",
      " 14  GenHlth               253680 non-null  float64\n",
      " 15  MentHlth              253680 non-null  float64\n",
      " 16  PhysHlth              253680 non-null  float64\n",
      " 17  DiffWalk              253680 non-null  float64\n",
      " 18  Sex                   253680 non-null  float64\n",
      " 19  Age                   253680 non-null  float64\n",
      " 20  Education             253680 non-null  float64\n",
      " 21  Income                253680 non-null  float64\n",
      "dtypes: float64(22)\n",
      "memory usage: 42.6 MB\n"
     ]
    }
   ],
   "source": [
    "# Check info about dataset\n",
    "df.info()"
   ]
  },
  {
   "cell_type": "code",
   "execution_count": 10,
   "id": "65e9d483",
   "metadata": {
    "execution": {
     "iopub.execute_input": "2024-10-27T01:36:40.554318Z",
     "iopub.status.busy": "2024-10-27T01:36:40.553772Z",
     "iopub.status.idle": "2024-10-27T01:36:40.582884Z",
     "shell.execute_reply": "2024-10-27T01:36:40.581861Z"
    },
    "papermill": {
     "duration": 0.047065,
     "end_time": "2024-10-27T01:36:40.585231",
     "exception": false,
     "start_time": "2024-10-27T01:36:40.538166",
     "status": "completed"
    },
    "tags": []
   },
   "outputs": [],
   "source": [
    "# Might be useful later to divide dataset into two - diabetes and no_diabetes\n",
    "df_no = df[df['Diabetes_binary'] == 0]\n",
    "df_yes = df[df['Diabetes_binary'] == 1]"
   ]
  },
  {
   "cell_type": "markdown",
   "id": "a5bfa79f",
   "metadata": {
    "papermill": {
     "duration": 0.014541,
     "end_time": "2024-10-27T01:36:40.614766",
     "exception": false,
     "start_time": "2024-10-27T01:36:40.600225",
     "status": "completed"
    },
    "tags": []
   },
   "source": [
    "Seems like our data is cleaned, no null values, meaningful column names, correct data types, and data is ready for further analysis. "
   ]
  },
  {
   "cell_type": "markdown",
   "id": "d89c1506",
   "metadata": {
    "papermill": {
     "duration": 0.014501,
     "end_time": "2024-10-27T01:36:40.644143",
     "exception": false,
     "start_time": "2024-10-27T01:36:40.629642",
     "status": "completed"
    },
    "tags": []
   },
   "source": [
    "# Gender"
   ]
  },
  {
   "cell_type": "code",
   "execution_count": 11,
   "id": "eb7e08b2",
   "metadata": {
    "execution": {
     "iopub.execute_input": "2024-10-27T01:36:40.675745Z",
     "iopub.status.busy": "2024-10-27T01:36:40.674858Z",
     "iopub.status.idle": "2024-10-27T01:36:41.109950Z",
     "shell.execute_reply": "2024-10-27T01:36:41.108962Z"
    },
    "papermill": {
     "duration": 0.453217,
     "end_time": "2024-10-27T01:36:41.112062",
     "exception": false,
     "start_time": "2024-10-27T01:36:40.658845",
     "status": "completed"
    },
    "tags": []
   },
   "outputs": [
    {
     "name": "stderr",
     "output_type": "stream",
     "text": [
      "C:\\Users\\Keshavi\\AppData\\Local\\Temp\\ipykernel_10812\\1294199913.py:3: FutureWarning: \n",
      "\n",
      "Passing `palette` without assigning `hue` is deprecated and will be removed in v0.14.0. Assign the `x` variable to `hue` and set `legend=False` for the same effect.\n",
      "\n",
      "  ax1 = sns.countplot(data=df_no, x='Sex', ax=ax1, palette='husl')\n",
      "C:\\Users\\Keshavi\\AppData\\Local\\Temp\\ipykernel_10812\\1294199913.py:5: UserWarning: set_ticklabels() should only be used with a fixed number of ticks, i.e. after set_ticks() or using a FixedLocator.\n",
      "  ax1.set_xticklabels(['Female', 'Male'])\n",
      "C:\\Users\\Keshavi\\AppData\\Local\\Temp\\ipykernel_10812\\1294199913.py:7: FutureWarning: \n",
      "\n",
      "Passing `palette` without assigning `hue` is deprecated and will be removed in v0.14.0. Assign the `x` variable to `hue` and set `legend=False` for the same effect.\n",
      "\n",
      "  ax2 = sns.countplot(data=df_yes, x='Sex', ax=ax2, palette='husl')\n",
      "C:\\Users\\Keshavi\\AppData\\Local\\Temp\\ipykernel_10812\\1294199913.py:9: UserWarning: set_ticklabels() should only be used with a fixed number of ticks, i.e. after set_ticks() or using a FixedLocator.\n",
      "  ax2.set_xticklabels(['Female', 'Male'])\n"
     ]
    },
    {
     "data": {
      "image/png": "[encoded data removed]",
      "text/plain": [
       "<Figure size 2000x1000 with 2 Axes>"
      ]
     },
     "metadata": {},
     "output_type": "display_data"
    }
   ],
   "source": [
    "# Lets discover gender distribution \n",
    "fig, (ax1, ax2) = plt.subplots(1,2, sharey=True, figsize=(20,10))\n",
    "ax1 = sns.countplot(data=df_no, x='Sex', ax=ax1, palette='husl')\n",
    "ax1.set(title='Gender distribution for no-diabetes')\n",
    "ax1.set_xticklabels(['Female', 'Male'])\n",
    "\n",
    "ax2 = sns.countplot(data=df_yes, x='Sex', ax=ax2, palette='husl')\n",
    "ax2.set(title='Gender distribution for diabetics')\n",
    "ax2.set_xticklabels(['Female', 'Male'])\n",
    "plt.show()"
   ]
  },
  {
   "cell_type": "markdown",
   "id": "28874776",
   "metadata": {
    "papermill": {
     "duration": 0.01542,
     "end_time": "2024-10-27T01:36:41.142821",
     "exception": false,
     "start_time": "2024-10-27T01:36:41.127401",
     "status": "completed"
    },
    "tags": []
   },
   "source": [
    "# Age"
   ]
  },
  {
   "cell_type": "code",
   "execution_count": 12,
   "id": "2c9d09cb",
   "metadata": {
    "execution": {
     "iopub.execute_input": "2024-10-27T01:36:41.175276Z",
     "iopub.status.busy": "2024-10-27T01:36:41.174905Z",
     "iopub.status.idle": "2024-10-27T01:36:41.531758Z",
     "shell.execute_reply": "2024-10-27T01:36:41.530863Z"
    },
    "papermill": {
     "duration": 0.375681,
     "end_time": "2024-10-27T01:36:41.533835",
     "exception": false,
     "start_time": "2024-10-27T01:36:41.158154",
     "status": "completed"
    },
    "tags": []
   },
   "outputs": [
    {
     "name": "stderr",
     "output_type": "stream",
     "text": [
      "C:\\Users\\Keshavi\\AppData\\Local\\Temp\\ipykernel_10812\\2731080450.py:4: UserWarning: set_ticklabels() should only be used with a fixed number of ticks, i.e. after set_ticks() or using a FixedLocator.\n",
      "  ax.set_xticklabels(['18-24', '25-29', '30-34', '35-39', '40-44', '45-49', '50-54', '55-59', '60-64', '65-69', '70-74', '75-79', '>80'], rotation = 45)\n"
     ]
    },
    {
     "data": {
      "text/plain": [
       "[Text(0, 0, '18-24'),\n",
       " Text(1, 0, '25-29'),\n",
       " Text(2, 0, '30-34'),\n",
       " Text(3, 0, '35-39'),\n",
       " Text(4, 0, '40-44'),\n",
       " Text(5, 0, '45-49'),\n",
       " Text(6, 0, '50-54'),\n",
       " Text(7, 0, '55-59'),\n",
       " Text(8, 0, '60-64'),\n",
       " Text(9, 0, '65-69'),\n",
       " Text(10, 0, '70-74'),\n",
       " Text(11, 0, '75-79'),\n",
       " Text(12, 0, '>80')]"
      ]
     },
     "execution_count": 12,
     "metadata": {},
     "output_type": "execute_result"
    },
    {
     "data": {
      "image/png": "[encoded data removed]",
      "text/plain": [
       "<Figure size 640x480 with 1 Axes>"
      ]
     },
     "metadata": {},
     "output_type": "display_data"
    }
   ],
   "source": [
    "# Check age distribution for people with diabetes\n",
    "ax = sns.countplot(data=df_yes, x='Age')\n",
    "ax.set(title= 'Age distribution for diabetics')\n",
    "ax.set_xticklabels(['18-24', '25-29', '30-34', '35-39', '40-44', '45-49', '50-54', '55-59', '60-64', '65-69', '70-74', '75-79', '>80'], rotation = 45)"
   ]
  },
  {
   "cell_type": "markdown",
   "id": "77d565d5",
   "metadata": {
    "papermill": {
     "duration": 0.015481,
     "end_time": "2024-10-27T01:36:41.565698",
     "exception": false,
     "start_time": "2024-10-27T01:36:41.550217",
     "status": "completed"
    },
    "tags": []
   },
   "source": [
    "# BMI"
   ]
  },
  {
   "cell_type": "code",
   "execution_count": 13,
   "id": "cd0da3f9",
   "metadata": {
    "execution": {
     "iopub.execute_input": "2024-10-27T01:36:41.599665Z",
     "iopub.status.busy": "2024-10-27T01:36:41.598861Z",
     "iopub.status.idle": "2024-10-27T01:36:42.213404Z",
     "shell.execute_reply": "2024-10-27T01:36:42.212553Z"
    },
    "papermill": {
     "duration": 0.634147,
     "end_time": "2024-10-27T01:36:42.216334",
     "exception": false,
     "start_time": "2024-10-27T01:36:41.582187",
     "status": "completed"
    },
    "tags": []
   },
   "outputs": [
    {
     "data": {
      "text/plain": [
       "(15.0, 60.0)"
      ]
     },
     "execution_count": 13,
     "metadata": {},
     "output_type": "execute_result"
    },
    {
     "data": {
      "image/png": "[encoded data removed]",
      "text/plain": [
       "<Figure size 640x480 with 1 Axes>"
      ]
     },
     "metadata": {},
     "output_type": "display_data"
    }
   ],
   "source": [
    "# Check BMI for people with diabetes. \n",
    "# We will remove outliers for better visualization, less than 15 and greater than 60.\n",
    "sns.histplot(data=df_yes, x='BMI').set(title='BMI distribution for diabetics')\n",
    "plt.xlim(15, 60)"
   ]
  },
  {
   "cell_type": "code",
   "execution_count": 14,
   "id": "7df4a6b0",
   "metadata": {
    "execution": {
     "iopub.execute_input": "2024-10-27T01:36:42.266244Z",
     "iopub.status.busy": "2024-10-27T01:36:42.265790Z",
     "iopub.status.idle": "2024-10-27T01:36:42.588237Z",
     "shell.execute_reply": "2024-10-27T01:36:42.587176Z"
    },
    "papermill": {
     "duration": 0.351098,
     "end_time": "2024-10-27T01:36:42.590678",
     "exception": false,
     "start_time": "2024-10-27T01:36:42.239580",
     "status": "completed"
    },
    "tags": []
   },
   "outputs": [
    {
     "name": "stderr",
     "output_type": "stream",
     "text": [
      "C:\\Users\\Keshavi\\AppData\\Local\\Temp\\ipykernel_10812\\3165403842.py:2: FutureWarning: \n",
      "\n",
      "Passing `palette` without assigning `hue` is deprecated and will be removed in v0.14.0. Assign the `x` variable to `hue` and set `legend=False` for the same effect.\n",
      "\n",
      "  ax = sns.boxplot(data=df, x='Diabetes_binary', y='BMI', palette='Paired')\n",
      "C:\\Users\\Keshavi\\AppData\\Local\\Temp\\ipykernel_10812\\3165403842.py:4: UserWarning: set_ticklabels() should only be used with a fixed number of ticks, i.e. after set_ticks() or using a FixedLocator.\n",
      "  ax.set_xticklabels(['No diabetes', 'Diabetic'])\n"
     ]
    },
    {
     "data": {
      "text/plain": [
       "(15.0, 60.0)"
      ]
     },
     "execution_count": 14,
     "metadata": {},
     "output_type": "execute_result"
    },
    {
     "data": {
      "image/png": "[encoded data removed]",
      "text/plain": [
       "<Figure size 640x480 with 1 Axes>"
      ]
     },
     "metadata": {},
     "output_type": "display_data"
    }
   ],
   "source": [
    "# Compare BMI for people with and without diabetes\n",
    "ax = sns.boxplot(data=df, x='Diabetes_binary', y='BMI', palette='Paired')\n",
    "ax.set(title = 'BMI distribution for no-diabetes and diabetics')\n",
    "ax.set_xticklabels(['No diabetes', 'Diabetic'])\n",
    "plt.ylim(15, 60)"
   ]
  },
  {
   "cell_type": "code",
   "execution_count": 15,
   "id": "5e4f9967",
   "metadata": {
    "execution": {
     "iopub.execute_input": "2024-10-27T01:36:42.665965Z",
     "iopub.status.busy": "2024-10-27T01:36:42.665616Z",
     "iopub.status.idle": "2024-10-27T01:36:44.195781Z",
     "shell.execute_reply": "2024-10-27T01:36:44.194838Z"
    },
    "papermill": {
     "duration": 1.551846,
     "end_time": "2024-10-27T01:36:44.199311",
     "exception": false,
     "start_time": "2024-10-27T01:36:42.647465",
     "status": "completed"
    },
    "tags": []
   },
   "outputs": [
    {
     "name": "stderr",
     "output_type": "stream",
     "text": [
      "C:\\Users\\Keshavi\\AppData\\Local\\Temp\\ipykernel_10812\\3160687086.py:13: UserWarning: set_ticklabels() should only be used with a fixed number of ticks, i.e. after set_ticks() or using a FixedLocator.\n",
      "  ax.set_xticklabels(['No Diabetes', 'Diabetes'])\n",
      "C:\\Users\\Keshavi\\AppData\\Local\\Temp\\ipykernel_10812\\3160687086.py:13: UserWarning: set_ticklabels() should only be used with a fixed number of ticks, i.e. after set_ticks() or using a FixedLocator.\n",
      "  ax.set_xticklabels(['No Diabetes', 'Diabetes'])\n",
      "C:\\Users\\Keshavi\\AppData\\Local\\Temp\\ipykernel_10812\\3160687086.py:13: UserWarning: set_ticklabels() should only be used with a fixed number of ticks, i.e. after set_ticks() or using a FixedLocator.\n",
      "  ax.set_xticklabels(['No Diabetes', 'Diabetes'])\n",
      "C:\\Users\\Keshavi\\AppData\\Local\\Temp\\ipykernel_10812\\3160687086.py:13: UserWarning: set_ticklabels() should only be used with a fixed number of ticks, i.e. after set_ticks() or using a FixedLocator.\n",
      "  ax.set_xticklabels(['No Diabetes', 'Diabetes'])\n",
      "C:\\Users\\Keshavi\\AppData\\Local\\Temp\\ipykernel_10812\\3160687086.py:13: UserWarning: set_ticklabels() should only be used with a fixed number of ticks, i.e. after set_ticks() or using a FixedLocator.\n",
      "  ax.set_xticklabels(['No Diabetes', 'Diabetes'])\n",
      "C:\\Users\\Keshavi\\AppData\\Local\\Temp\\ipykernel_10812\\3160687086.py:13: UserWarning: set_ticklabels() should only be used with a fixed number of ticks, i.e. after set_ticks() or using a FixedLocator.\n",
      "  ax.set_xticklabels(['No Diabetes', 'Diabetes'])\n"
     ]
    },
    {
     "data": {
      "image/png": "[encoded data removed]",
      "text/plain": [
       "<Figure size 1200x1500 with 6 Axes>"
      ]
     },
     "metadata": {},
     "output_type": "display_data"
    }
   ],
   "source": [
    "# There are some binary columns that we can visualy compare data between no-diabetes and diabetics.\n",
    "# Lets iterate from those columns and build plots in one go.\n",
    "col_names = ['HighChol', 'HighBP', 'Smoker', 'HvyAlcoholConsump', 'PhysActivity', 'DiffWalk']\n",
    "a = 3  # number of rows\n",
    "b = 2  # number of columns\n",
    "c = 1  # plot counter\n",
    "\n",
    "fig = plt.figure(figsize=(12, 15))\n",
    "for col in col_names:\n",
    "    plt.subplot(a, b, c)\n",
    "    ax = sns.countplot(data=df, x='Diabetes_binary', hue=col, palette='Set2')\n",
    "    ax.set(title=f'Count of Diabetes Status by {col}', xlabel='Diabetes Status', ylabel='Count')\n",
    "    ax.set_xticklabels(['No Diabetes', 'Diabetes'])\n",
    "    ax.legend(title=col)\n",
    "    c += 1  \n",
    "plt.tight_layout()\n",
    "plt.show()"
   ]
  },
  {
   "cell_type": "code",
   "execution_count": 16,
   "id": "b45e5f70",
   "metadata": {
    "execution": {
     "iopub.execute_input": "2024-10-27T01:36:44.274600Z",
     "iopub.status.busy": "2024-10-27T01:36:44.274237Z",
     "iopub.status.idle": "2024-10-27T01:36:44.787245Z",
     "shell.execute_reply": "2024-10-27T01:36:44.786312Z"
    },
    "papermill": {
     "duration": 0.535269,
     "end_time": "2024-10-27T01:36:44.789928",
     "exception": false,
     "start_time": "2024-10-27T01:36:44.254659",
     "status": "completed"
    },
    "tags": []
   },
   "outputs": [
    {
     "data": {
      "text/html": [
       "<style type=\"text/css\">\n",
       "#T_685f3_row0_col0, #T_685f3_row1_col1, #T_685f3_row2_col2, #T_685f3_row3_col3, #T_685f3_row4_col4, #T_685f3_row5_col5, #T_685f3_row6_col6, #T_685f3_row7_col7, #T_685f3_row8_col8, #T_685f3_row9_col9, #T_685f3_row10_col10, #T_685f3_row11_col11, #T_685f3_row12_col12, #T_685f3_row13_col13, #T_685f3_row14_col14, #T_685f3_row15_col15, #T_685f3_row16_col16, #T_685f3_row17_col17, #T_685f3_row18_col18, #T_685f3_row19_col19, #T_685f3_row20_col20, #T_685f3_row21_col21 {\n",
       "  background-color: #2e8b57;\n",
       "  color: #f1f1f1;\n",
       "}\n",
       "#T_685f3_row0_col1, #T_685f3_row20_col8 {\n",
       "  background-color: #a5ccb6;\n",
       "  color: #000000;\n",
       "}\n",
       "#T_685f3_row0_col2 {\n",
       "  background-color: #b9d7c6;\n",
       "  color: #000000;\n",
       "}\n",
       "#T_685f3_row0_col3, #T_685f3_row0_col8, #T_685f3_row3_col9, #T_685f3_row3_col10, #T_685f3_row8_col18, #T_685f3_row9_col15, #T_685f3_row15_col21, #T_685f3_row18_col6 {\n",
       "  background-color: #d5e7dc;\n",
       "  color: #000000;\n",
       "}\n",
       "#T_685f3_row0_col4, #T_685f3_row12_col20, #T_685f3_row19_col7, #T_685f3_row21_col12 {\n",
       "  background-color: #afd2bd;\n",
       "  color: #000000;\n",
       "}\n",
       "#T_685f3_row0_col5, #T_685f3_row3_col19, #T_685f3_row5_col0, #T_685f3_row6_col5, #T_685f3_row9_col14, #T_685f3_row11_col13, #T_685f3_row11_col15, #T_685f3_row15_col1, #T_685f3_row17_col12, #T_685f3_row20_col9 {\n",
       "  background-color: #c7dfd0;\n",
       "  color: #000000;\n",
       "}\n",
       "#T_685f3_row0_col6, #T_685f3_row2_col21 {\n",
       "  background-color: #c4ddce;\n",
       "  color: #000000;\n",
       "}\n",
       "#T_685f3_row0_col7, #T_685f3_row3_col21, #T_685f3_row14_col5 {\n",
       "  background-color: #b6d6c3;\n",
       "  color: #000000;\n",
       "}\n",
       "#T_685f3_row0_col9, #T_685f3_row1_col9, #T_685f3_row1_col10, #T_685f3_row2_col9, #T_685f3_row13_col11, #T_685f3_row15_col10, #T_685f3_row19_col18, #T_685f3_row20_col3 {\n",
       "  background-color: #e1ede5;\n",
       "  color: #000000;\n",
       "}\n",
       "#T_685f3_row0_col10, #T_685f3_row8_col3, #T_685f3_row10_col3, #T_685f3_row11_col9, #T_685f3_row18_col11, #T_685f3_row20_col14 {\n",
       "  background-color: #e0ece4;\n",
       "  color: #000000;\n",
       "}\n",
       "#T_685f3_row0_col11, #T_685f3_row8_col4, #T_685f3_row9_col18, #T_685f3_row12_col13, #T_685f3_row13_col3, #T_685f3_row13_col12, #T_685f3_row14_col8, #T_685f3_row14_col9, #T_685f3_row14_col10, #T_685f3_row14_col20, #T_685f3_row14_col21, #T_685f3_row20_col5, #T_685f3_row21_col0, #T_685f3_row21_col1, #T_685f3_row21_col2, #T_685f3_row21_col6, #T_685f3_row21_col7, #T_685f3_row21_col14, #T_685f3_row21_col15, #T_685f3_row21_col16, #T_685f3_row21_col17, #T_685f3_row21_col19 {\n",
       "  background-color: #ebf3ed;\n",
       "  color: #000000;\n",
       "}\n",
       "#T_685f3_row0_col12, #T_685f3_row1_col13, #T_685f3_row2_col13, #T_685f3_row15_col0, #T_685f3_row15_col4, #T_685f3_row16_col19, #T_685f3_row21_col18 {\n",
       "  background-color: #c5decf;\n",
       "  color: #000000;\n",
       "}\n",
       "#T_685f3_row0_col13, #T_685f3_row3_col8, #T_685f3_row7_col13, #T_685f3_row9_col12, #T_685f3_row10_col12, #T_685f3_row11_col17, #T_685f3_row17_col2 {\n",
       "  background-color: #c3ddcd;\n",
       "  color: #000000;\n",
       "}\n",
       "#T_685f3_row0_col14 {\n",
       "  background-color: #90c1a5;\n",
       "  color: #000000;\n",
       "}\n",
       "#T_685f3_row0_col15, #T_685f3_row6_col0, #T_685f3_row6_col15, #T_685f3_row16_col4 {\n",
       "  background-color: #bfdbca;\n",
       "  color: #000000;\n",
       "}\n",
       "#T_685f3_row0_col16, #T_685f3_row15_col13 {\n",
       "  background-color: #aacfb9;\n",
       "  color: #000000;\n",
       "}\n",
       "#T_685f3_row0_col17 {\n",
       "  background-color: #9ec8b0;\n",
       "  color: #000000;\n",
       "}\n",
       "#T_685f3_row0_col18, #T_685f3_row1_col8, #T_685f3_row1_col20, #T_685f3_row2_col18, #T_685f3_row9_col1, #T_685f3_row10_col5, #T_685f3_row12_col4, #T_685f3_row15_col8 {\n",
       "  background-color: #d6e7dd;\n",
       "  color: #000000;\n",
       "}\n",
       "#T_685f3_row0_col19, #T_685f3_row3_col17, #T_685f3_row14_col2, #T_685f3_row14_col6, #T_685f3_row17_col6 {\n",
       "  background-color: #b8d7c5;\n",
       "  color: #000000;\n",
       "}\n",
       "#T_685f3_row0_col20, #T_685f3_row4_col18, #T_685f3_row10_col15, #T_685f3_row12_col6, #T_685f3_row12_col9, #T_685f3_row13_col21 {\n",
       "  background-color: #d4e6db;\n",
       "  color: #000000;\n",
       "}\n",
       "#T_685f3_row0_col21, #T_685f3_row2_col8, #T_685f3_row4_col5, #T_685f3_row5_col11, #T_685f3_row13_col7, #T_685f3_row18_col13 {\n",
       "  background-color: #cfe3d7;\n",
       "  color: #000000;\n",
       "}\n",
       "#T_685f3_row1_col0, #T_685f3_row17_col15, #T_685f3_row21_col8 {\n",
       "  background-color: #a6cdb6;\n",
       "  color: #000000;\n",
       "}\n",
       "#T_685f3_row1_col2, #T_685f3_row2_col17, #T_685f3_row2_col19, #T_685f3_row7_col16 {\n",
       "  background-color: #a8ceb8;\n",
       "  color: #000000;\n",
       "}\n",
       "#T_685f3_row1_col3, #T_685f3_row1_col21, #T_685f3_row6_col4, #T_685f3_row13_col6, #T_685f3_row15_col12 {\n",
       "  background-color: #d0e4d7;\n",
       "  color: #000000;\n",
       "}\n",
       "#T_685f3_row1_col4, #T_685f3_row2_col0 {\n",
       "  background-color: #b0d2be;\n",
       "  color: #000000;\n",
       "}\n",
       "#T_685f3_row1_col5, #T_685f3_row2_col12, #T_685f3_row2_col15, #T_685f3_row3_col20, #T_685f3_row5_col7, #T_685f3_row6_col19, #T_685f3_row8_col9, #T_685f3_row19_col6 {\n",
       "  background-color: #c1dbcc;\n",
       "  color: #000000;\n",
       "}\n",
       "#T_685f3_row1_col6, #T_685f3_row3_col1, #T_685f3_row5_col1, #T_685f3_row5_col13, #T_685f3_row7_col15, #T_685f3_row11_col5 {\n",
       "  background-color: #c0dbcb;\n",
       "  color: #000000;\n",
       "}\n",
       "#T_685f3_row1_col7, #T_685f3_row2_col16, #T_685f3_row4_col16, #T_685f3_row9_col20 {\n",
       "  background-color: #b1d3bf;\n",
       "  color: #000000;\n",
       "}\n",
       "#T_685f3_row1_col11, #T_685f3_row8_col7, #T_685f3_row8_col17, #T_685f3_row15_col3, #T_685f3_row17_col9 {\n",
       "  background-color: #e2eee6;\n",
       "  color: #000000;\n",
       "}\n",
       "#T_685f3_row1_col12, #T_685f3_row1_col15, #T_685f3_row2_col4, #T_685f3_row5_col19, #T_685f3_row11_col8, #T_685f3_row18_col5 {\n",
       "  background-color: #c1dccc;\n",
       "  color: #000000;\n",
       "}\n",
       "#T_685f3_row1_col14, #T_685f3_row15_col14, #T_685f3_row15_col16 {\n",
       "  background-color: #8ec0a4;\n",
       "  color: #000000;\n",
       "}\n",
       "#T_685f3_row1_col16, #T_685f3_row9_col10, #T_685f3_row14_col4, #T_685f3_row17_col1 {\n",
       "  background-color: #abd0bb;\n",
       "  color: #000000;\n",
       "}\n",
       "#T_685f3_row1_col17 {\n",
       "  background-color: #9dc8af;\n",
       "  color: #000000;\n",
       "}\n",
       "#T_685f3_row1_col18, #T_685f3_row3_col5, #T_685f3_row4_col6, #T_685f3_row12_col15 {\n",
       "  background-color: #d3e5da;\n",
       "  color: #000000;\n",
       "}\n",
       "#T_685f3_row1_col19, #T_685f3_row15_col17 {\n",
       "  background-color: #9cc7ae;\n",
       "  color: #000000;\n",
       "}\n",
       "#T_685f3_row2_col1, #T_685f3_row6_col14, #T_685f3_row7_col17, #T_685f3_row14_col1 {\n",
       "  background-color: #9fc9b1;\n",
       "  color: #000000;\n",
       "}\n",
       "#T_685f3_row2_col3, #T_685f3_row3_col6, #T_685f3_row12_col10, #T_685f3_row15_col2 {\n",
       "  background-color: #d2e5d9;\n",
       "  color: #000000;\n",
       "}\n",
       "#T_685f3_row2_col5, #T_685f3_row6_col13, #T_685f3_row8_col12, #T_685f3_row15_col5 {\n",
       "  background-color: #c2dccd;\n",
       "  color: #000000;\n",
       "}\n",
       "#T_685f3_row2_col6, #T_685f3_row3_col0, #T_685f3_row4_col21, #T_685f3_row6_col12, #T_685f3_row18_col7 {\n",
       "  background-color: #c6ded0;\n",
       "  color: #000000;\n",
       "}\n",
       "#T_685f3_row2_col7, #T_685f3_row3_col12, #T_685f3_row16_col1, #T_685f3_row16_col7, #T_685f3_row17_col13 {\n",
       "  background-color: #b6d5c3;\n",
       "  color: #000000;\n",
       "}\n",
       "#T_685f3_row2_col10, #T_685f3_row6_col10, #T_685f3_row9_col5, #T_685f3_row10_col4, #T_685f3_row10_col11, #T_685f3_row17_col20 {\n",
       "  background-color: #deebe3;\n",
       "  color: #000000;\n",
       "}\n",
       "#T_685f3_row2_col11, #T_685f3_row5_col3, #T_685f3_row12_col11, #T_685f3_row16_col18, #T_685f3_row20_col6 {\n",
       "  background-color: #e3eee7;\n",
       "  color: #000000;\n",
       "}\n",
       "#T_685f3_row2_col14, #T_685f3_row14_col15 {\n",
       "  background-color: #9bc7ae;\n",
       "  color: #000000;\n",
       "}\n",
       "#T_685f3_row2_col20, #T_685f3_row3_col15, #T_685f3_row7_col21, #T_685f3_row12_col3, #T_685f3_row13_col0, #T_685f3_row18_col0, #T_685f3_row18_col4, #T_685f3_row21_col9 {\n",
       "  background-color: #cce2d4;\n",
       "  color: #000000;\n",
       "}\n",
       "#T_685f3_row3_col2, #T_685f3_row3_col4, #T_685f3_row10_col16 {\n",
       "  background-color: #cde2d6;\n",
       "  color: #000000;\n",
       "}\n",
       "#T_685f3_row3_col7, #T_685f3_row5_col2, #T_685f3_row6_col2, #T_685f3_row6_col20, #T_685f3_row7_col18, #T_685f3_row10_col13, #T_685f3_row13_col1, #T_685f3_row13_col8 {\n",
       "  background-color: #cde2d5;\n",
       "  color: #000000;\n",
       "}\n",
       "#T_685f3_row3_col11, #T_685f3_row8_col19, #T_685f3_row11_col3, #T_685f3_row15_col9, #T_685f3_row15_col19, #T_685f3_row18_col3, #T_685f3_row20_col0, #T_685f3_row21_col5 {\n",
       "  background-color: #e5efe9;\n",
       "  color: #000000;\n",
       "}\n",
       "#T_685f3_row3_col13, #T_685f3_row4_col20, #T_685f3_row5_col8, #T_685f3_row7_col8, #T_685f3_row7_col20, #T_685f3_row11_col1, #T_685f3_row13_col20, #T_685f3_row15_col20, #T_685f3_row19_col20 {\n",
       "  background-color: #d0e4d8;\n",
       "  color: #000000;\n",
       "}\n",
       "#T_685f3_row3_col14, #T_685f3_row5_col16, #T_685f3_row6_col7 {\n",
       "  background-color: #b2d3c0;\n",
       "  color: #000000;\n",
       "}\n",
       "#T_685f3_row3_col16, #T_685f3_row4_col13, #T_685f3_row7_col5, #T_685f3_row12_col8, #T_685f3_row12_col19, #T_685f3_row18_col8, #T_685f3_row18_col20 {\n",
       "  background-color: #bfdaca;\n",
       "  color: #000000;\n",
       "}\n",
       "#T_685f3_row3_col18, #T_685f3_row8_col5, #T_685f3_row8_col11, #T_685f3_row12_col18 {\n",
       "  background-color: #dfece4;\n",
       "  color: #000000;\n",
       "}\n",
       "#T_685f3_row4_col0, #T_685f3_row7_col1, #T_685f3_row10_col9 {\n",
       "  background-color: #add1bc;\n",
       "  color: #000000;\n",
       "}\n",
       "#T_685f3_row4_col1, #T_685f3_row6_col16, #T_685f3_row9_col21, #T_685f3_row10_col8, #T_685f3_row13_col16, #T_685f3_row17_col0, #T_685f3_row19_col2 {\n",
       "  background-color: #add0bc;\n",
       "  color: #000000;\n",
       "}\n",
       "#T_685f3_row4_col2, #T_685f3_row5_col21, #T_685f3_row6_col21, #T_685f3_row12_col1, #T_685f3_row13_col4, #T_685f3_row15_col6, #T_685f3_row18_col16, #T_685f3_row19_col21 {\n",
       "  background-color: #cae0d3;\n",
       "  color: #000000;\n",
       "}\n",
       "#T_685f3_row4_col3, #T_685f3_row6_col18, #T_685f3_row10_col7, #T_685f3_row11_col18, #T_685f3_row18_col19, #T_685f3_row20_col15, #T_685f3_row20_col16 {\n",
       "  background-color: #dbeae0;\n",
       "  color: #000000;\n",
       "}\n",
       "#T_685f3_row4_col7, #T_685f3_row5_col6, #T_685f3_row5_col12, #T_685f3_row5_col18, #T_685f3_row9_col19 {\n",
       "  background-color: #cbe1d4;\n",
       "  color: #000000;\n",
       "}\n",
       "#T_685f3_row4_col8, #T_685f3_row5_col20, #T_685f3_row7_col3, #T_685f3_row10_col1, #T_685f3_row19_col4, #T_685f3_row19_col15, #T_685f3_row20_col17 {\n",
       "  background-color: #d9e9df;\n",
       "  color: #000000;\n",
       "}\n",
       "#T_685f3_row4_col9, #T_685f3_row20_col2 {\n",
       "  background-color: #e9f1eb;\n",
       "  color: #000000;\n",
       "}\n",
       "#T_685f3_row4_col10, #T_685f3_row8_col6, #T_685f3_row9_col4, #T_685f3_row13_col9, #T_685f3_row16_col9, #T_685f3_row16_col10, #T_685f3_row18_col10 {\n",
       "  background-color: #e1ede6;\n",
       "  color: #000000;\n",
       "}\n",
       "#T_685f3_row4_col11, #T_685f3_row15_col18, #T_685f3_row17_col8, #T_685f3_row18_col9 {\n",
       "  background-color: #e9f2ec;\n",
       "  color: #000000;\n",
       "}\n",
       "#T_685f3_row4_col12, #T_685f3_row7_col4, #T_685f3_row9_col16, #T_685f3_row18_col12 {\n",
       "  background-color: #cae1d3;\n",
       "  color: #000000;\n",
       "}\n",
       "#T_685f3_row4_col14 {\n",
       "  background-color: #97c5ab;\n",
       "  color: #000000;\n",
       "}\n",
       "#T_685f3_row4_col15, #T_685f3_row7_col2, #T_685f3_row8_col10, #T_685f3_row11_col14, #T_685f3_row16_col6, #T_685f3_row17_col5, #T_685f3_row19_col5, #T_685f3_row21_col10 {\n",
       "  background-color: #bdd9c9;\n",
       "  color: #000000;\n",
       "}\n",
       "#T_685f3_row4_col17, #T_685f3_row13_col14, #T_685f3_row14_col0 {\n",
       "  background-color: #a1cab2;\n",
       "  color: #000000;\n",
       "}\n",
       "#T_685f3_row4_col19, #T_685f3_row6_col9, #T_685f3_row13_col10 {\n",
       "  background-color: #dceae1;\n",
       "  color: #000000;\n",
       "}\n",
       "#T_685f3_row5_col4, #T_685f3_row8_col13, #T_685f3_row12_col7, #T_685f3_row19_col3, #T_685f3_row19_col8 {\n",
       "  background-color: #d1e4d9;\n",
       "  color: #000000;\n",
       "}\n",
       "#T_685f3_row5_col9, #T_685f3_row7_col11, #T_685f3_row10_col18, #T_685f3_row20_col1, #T_685f3_row21_col13 {\n",
       "  background-color: #e7f0ea;\n",
       "  color: #000000;\n",
       "}\n",
       "#T_685f3_row5_col10, #T_685f3_row11_col4, #T_685f3_row11_col19, #T_685f3_row16_col3 {\n",
       "  background-color: #dbeae1;\n",
       "  color: #000000;\n",
       "}\n",
       "#T_685f3_row5_col14 {\n",
       "  background-color: #a2cab3;\n",
       "  color: #000000;\n",
       "}\n",
       "#T_685f3_row5_col15, #T_685f3_row12_col17, #T_685f3_row14_col19, #T_685f3_row20_col10 {\n",
       "  background-color: #bcd9c8;\n",
       "  color: #000000;\n",
       "}\n",
       "#T_685f3_row5_col17, #T_685f3_row13_col15, #T_685f3_row13_col17 {\n",
       "  background-color: #acd0bb;\n",
       "  color: #000000;\n",
       "}\n",
       "#T_685f3_row6_col1 {\n",
       "  background-color: #bbd8c7;\n",
       "  color: #000000;\n",
       "}\n",
       "#T_685f3_row6_col3, #T_685f3_row7_col9, #T_685f3_row7_col10, #T_685f3_row8_col14, #T_685f3_row9_col3, #T_685f3_row10_col6, #T_685f3_row14_col18, #T_685f3_row15_col11, #T_685f3_row16_col21, #T_685f3_row20_col11 {\n",
       "  background-color: #ddebe2;\n",
       "  color: #000000;\n",
       "}\n",
       "#T_685f3_row6_col8, #T_685f3_row9_col13, #T_685f3_row12_col0, #T_685f3_row14_col12, #T_685f3_row19_col9 {\n",
       "  background-color: #cee3d6;\n",
       "  color: #000000;\n",
       "}\n",
       "#T_685f3_row6_col11, #T_685f3_row8_col16, #T_685f3_row16_col8, #T_685f3_row17_col10, #T_685f3_row17_col21, #T_685f3_row20_col4, #T_685f3_row20_col7 {\n",
       "  background-color: #e4efe8;\n",
       "  color: #000000;\n",
       "}\n",
       "#T_685f3_row6_col17, #T_685f3_row8_col20 {\n",
       "  background-color: #a4ccb5;\n",
       "  color: #000000;\n",
       "}\n",
       "#T_685f3_row7_col0, #T_685f3_row7_col6, #T_685f3_row17_col19, #T_685f3_row19_col0 {\n",
       "  background-color: #b3d4c1;\n",
       "  color: #000000;\n",
       "}\n",
       "#T_685f3_row7_col12, #T_685f3_row9_col17, #T_685f3_row12_col16 {\n",
       "  background-color: #c4ddcf;\n",
       "  color: #000000;\n",
       "}\n",
       "#T_685f3_row7_col14 {\n",
       "  background-color: #94c3a8;\n",
       "  color: #000000;\n",
       "}\n",
       "#T_685f3_row7_col19, #T_685f3_row11_col21, #T_685f3_row16_col13, #T_685f3_row17_col7 {\n",
       "  background-color: #b0d2bf;\n",
       "  color: #000000;\n",
       "}\n",
       "#T_685f3_row8_col0, #T_685f3_row8_col1, #T_685f3_row9_col2, #T_685f3_row10_col2, #T_685f3_row13_col18, #T_685f3_row21_col4 {\n",
       "  background-color: #e4eee7;\n",
       "  color: #000000;\n",
       "}\n",
       "#T_685f3_row8_col2, #T_685f3_row13_col19 {\n",
       "  background-color: #eaf2ed;\n",
       "  color: #000000;\n",
       "}\n",
       "#T_685f3_row8_col15, #T_685f3_row11_col2, #T_685f3_row21_col3 {\n",
       "  background-color: #deece3;\n",
       "  color: #000000;\n",
       "}\n",
       "#T_685f3_row8_col21 {\n",
       "  background-color: #9cc8af;\n",
       "  color: #000000;\n",
       "}\n",
       "#T_685f3_row9_col0, #T_685f3_row9_col7, #T_685f3_row18_col2, #T_685f3_row18_col15, #T_685f3_row20_col13 {\n",
       "  background-color: #d7e8dd;\n",
       "  color: #000000;\n",
       "}\n",
       "#T_685f3_row9_col6, #T_685f3_row10_col19, #T_685f3_row11_col6, #T_685f3_row11_col7, #T_685f3_row14_col3, #T_685f3_row16_col20, #T_685f3_row19_col10, #T_685f3_row20_col18, #T_685f3_row21_col11 {\n",
       "  background-color: #d8e8de;\n",
       "  color: #000000;\n",
       "}\n",
       "#T_685f3_row9_col8, #T_685f3_row14_col13 {\n",
       "  background-color: #aed1bd;\n",
       "  color: #000000;\n",
       "}\n",
       "#T_685f3_row9_col11, #T_685f3_row19_col11, #T_685f3_row20_col19 {\n",
       "  background-color: #e7f1ea;\n",
       "  color: #000000;\n",
       "}\n",
       "#T_685f3_row10_col0, #T_685f3_row11_col0, #T_685f3_row13_col2, #T_685f3_row17_col3, #T_685f3_row19_col13 {\n",
       "  background-color: #dae9e0;\n",
       "  color: #000000;\n",
       "}\n",
       "#T_685f3_row10_col14, #T_685f3_row10_col17, #T_685f3_row11_col12, #T_685f3_row13_col5, #T_685f3_row15_col7, #T_685f3_row16_col12 {\n",
       "  background-color: #c9e0d2;\n",
       "  color: #000000;\n",
       "}\n",
       "#T_685f3_row10_col20 {\n",
       "  background-color: #aacfba;\n",
       "  color: #000000;\n",
       "}\n",
       "#T_685f3_row10_col21, #T_685f3_row19_col14 {\n",
       "  background-color: #a3cbb4;\n",
       "  color: #000000;\n",
       "}\n",
       "#T_685f3_row11_col10 {\n",
       "  background-color: #d3e6da;\n",
       "  color: #000000;\n",
       "}\n",
       "#T_685f3_row11_col16, #T_685f3_row16_col2, #T_685f3_row18_col1, #T_685f3_row18_col17 {\n",
       "  background-color: #c7dfd1;\n",
       "  color: #000000;\n",
       "}\n",
       "#T_685f3_row11_col20, #T_685f3_row12_col14, #T_685f3_row16_col5 {\n",
       "  background-color: #bedac9;\n",
       "  color: #000000;\n",
       "}\n",
       "#T_685f3_row12_col2, #T_685f3_row12_col5 {\n",
       "  background-color: #d5e6dc;\n",
       "  color: #000000;\n",
       "}\n",
       "#T_685f3_row12_col21 {\n",
       "  background-color: #a2cbb3;\n",
       "  color: #000000;\n",
       "}\n",
       "#T_685f3_row14_col7 {\n",
       "  background-color: #a9ceb9;\n",
       "  color: #000000;\n",
       "}\n",
       "#T_685f3_row14_col11, #T_685f3_row17_col11, #T_685f3_row17_col18 {\n",
       "  background-color: #e8f1eb;\n",
       "  color: #000000;\n",
       "}\n",
       "#T_685f3_row14_col16 {\n",
       "  background-color: #75b290;\n",
       "  color: #f1f1f1;\n",
       "}\n",
       "#T_685f3_row14_col17, #T_685f3_row17_col16 {\n",
       "  background-color: #7cb695;\n",
       "  color: #f1f1f1;\n",
       "}\n",
       "#T_685f3_row16_col0, #T_685f3_row19_col16, #T_685f3_row20_col12 {\n",
       "  background-color: #b5d5c2;\n",
       "  color: #000000;\n",
       "}\n",
       "#T_685f3_row16_col11 {\n",
       "  background-color: #e6f0e9;\n",
       "  color: #000000;\n",
       "}\n",
       "#T_685f3_row16_col14 {\n",
       "  background-color: #6faf8b;\n",
       "  color: #f1f1f1;\n",
       "}\n",
       "#T_685f3_row16_col15 {\n",
       "  background-color: #93c2a7;\n",
       "  color: #000000;\n",
       "}\n",
       "#T_685f3_row16_col17, #T_685f3_row17_col14 {\n",
       "  background-color: #79b492;\n",
       "  color: #f1f1f1;\n",
       "}\n",
       "#T_685f3_row17_col4, #T_685f3_row19_col12 {\n",
       "  background-color: #b3d4c0;\n",
       "  color: #000000;\n",
       "}\n",
       "#T_685f3_row18_col14 {\n",
       "  background-color: #b9d7c5;\n",
       "  color: #000000;\n",
       "}\n",
       "#T_685f3_row18_col21 {\n",
       "  background-color: #a7cdb7;\n",
       "  color: #000000;\n",
       "}\n",
       "#T_685f3_row19_col1 {\n",
       "  background-color: #98c5ab;\n",
       "  color: #000000;\n",
       "}\n",
       "#T_685f3_row19_col17 {\n",
       "  background-color: #a0cab2;\n",
       "  color: #000000;\n",
       "}\n",
       "#T_685f3_row20_col21 {\n",
       "  background-color: #7ab493;\n",
       "  color: #f1f1f1;\n",
       "}\n",
       "#T_685f3_row21_col20 {\n",
       "  background-color: #7fb797;\n",
       "  color: #f1f1f1;\n",
       "}\n",
       "</style>\n",
       "<table id=\"T_685f3\">\n",
       "  <thead>\n",
       "    <tr>\n",
       "      <th class=\"blank level0\" >&nbsp;</th>\n",
       "      <th id=\"T_685f3_level0_col0\" class=\"col_heading level0 col0\" >Diabetes_binary</th>\n",
       "      <th id=\"T_685f3_level0_col1\" class=\"col_heading level0 col1\" >HighBP</th>\n",
       "      <th id=\"T_685f3_level0_col2\" class=\"col_heading level0 col2\" >HighChol</th>\n",
       "      <th id=\"T_685f3_level0_col3\" class=\"col_heading level0 col3\" >CholCheck</th>\n",
       "      <th id=\"T_685f3_level0_col4\" class=\"col_heading level0 col4\" >BMI</th>\n",
       "      <th id=\"T_685f3_level0_col5\" class=\"col_heading level0 col5\" >Smoker</th>\n",
       "      <th id=\"T_685f3_level0_col6\" class=\"col_heading level0 col6\" >Stroke</th>\n",
       "      <th id=\"T_685f3_level0_col7\" class=\"col_heading level0 col7\" >HeartDiseaseorAttack</th>\n",
       "      <th id=\"T_685f3_level0_col8\" class=\"col_heading level0 col8\" >PhysActivity</th>\n",
       "      <th id=\"T_685f3_level0_col9\" class=\"col_heading level0 col9\" >Fruits</th>\n",
       "      <th id=\"T_685f3_level0_col10\" class=\"col_heading level0 col10\" >Veggies</th>\n",
       "      <th id=\"T_685f3_level0_col11\" class=\"col_heading level0 col11\" >HvyAlcoholConsump</th>\n",
       "      <th id=\"T_685f3_level0_col12\" class=\"col_heading level0 col12\" >AnyHealthcare</th>\n",
       "      <th id=\"T_685f3_level0_col13\" class=\"col_heading level0 col13\" >NoDocbcCost</th>\n",
       "      <th id=\"T_685f3_level0_col14\" class=\"col_heading level0 col14\" >GenHlth</th>\n",
       "      <th id=\"T_685f3_level0_col15\" class=\"col_heading level0 col15\" >MentHlth</th>\n",
       "      <th id=\"T_685f3_level0_col16\" class=\"col_heading level0 col16\" >PhysHlth</th>\n",
       "      <th id=\"T_685f3_level0_col17\" class=\"col_heading level0 col17\" >DiffWalk</th>\n",
       "      <th id=\"T_685f3_level0_col18\" class=\"col_heading level0 col18\" >Sex</th>\n",
       "      <th id=\"T_685f3_level0_col19\" class=\"col_heading level0 col19\" >Age</th>\n",
       "      <th id=\"T_685f3_level0_col20\" class=\"col_heading level0 col20\" >Education</th>\n",
       "      <th id=\"T_685f3_level0_col21\" class=\"col_heading level0 col21\" >Income</th>\n",
       "    </tr>\n",
       "  </thead>\n",
       "  <tbody>\n",
       "    <tr>\n",
       "      <th id=\"T_685f3_level0_row0\" class=\"row_heading level0 row0\" >Diabetes_binary</th>\n",
       "      <td id=\"T_685f3_row0_col0\" class=\"data row0 col0\" >1.000000</td>\n",
       "      <td id=\"T_685f3_row0_col1\" class=\"data row0 col1\" >0.263129</td>\n",
       "      <td id=\"T_685f3_row0_col2\" class=\"data row0 col2\" >0.200276</td>\n",
       "      <td id=\"T_685f3_row0_col3\" class=\"data row0 col3\" >0.064761</td>\n",
       "      <td id=\"T_685f3_row0_col4\" class=\"data row0 col4\" >0.216843</td>\n",
       "      <td id=\"T_685f3_row0_col5\" class=\"data row0 col5\" >0.060789</td>\n",
       "      <td id=\"T_685f3_row0_col6\" class=\"data row0 col6\" >0.105816</td>\n",
       "      <td id=\"T_685f3_row0_col7\" class=\"data row0 col7\" >0.177282</td>\n",
       "      <td id=\"T_685f3_row0_col8\" class=\"data row0 col8\" >-0.118133</td>\n",
       "      <td id=\"T_685f3_row0_col9\" class=\"data row0 col9\" >-0.040779</td>\n",
       "      <td id=\"T_685f3_row0_col10\" class=\"data row0 col10\" >-0.056584</td>\n",
       "      <td id=\"T_685f3_row0_col11\" class=\"data row0 col11\" >-0.057056</td>\n",
       "      <td id=\"T_685f3_row0_col12\" class=\"data row0 col12\" >0.016255</td>\n",
       "      <td id=\"T_685f3_row0_col13\" class=\"data row0 col13\" >0.031433</td>\n",
       "      <td id=\"T_685f3_row0_col14\" class=\"data row0 col14\" >0.293569</td>\n",
       "      <td id=\"T_685f3_row0_col15\" class=\"data row0 col15\" >0.069315</td>\n",
       "      <td id=\"T_685f3_row0_col16\" class=\"data row0 col16\" >0.171337</td>\n",
       "      <td id=\"T_685f3_row0_col17\" class=\"data row0 col17\" >0.218344</td>\n",
       "      <td id=\"T_685f3_row0_col18\" class=\"data row0 col18\" >0.031430</td>\n",
       "      <td id=\"T_685f3_row0_col19\" class=\"data row0 col19\" >0.177442</td>\n",
       "      <td id=\"T_685f3_row0_col20\" class=\"data row0 col20\" >-0.124456</td>\n",
       "      <td id=\"T_685f3_row0_col21\" class=\"data row0 col21\" >-0.163919</td>\n",
       "    </tr>\n",
       "    <tr>\n",
       "      <th id=\"T_685f3_level0_row1\" class=\"row_heading level0 row1\" >HighBP</th>\n",
       "      <td id=\"T_685f3_row1_col0\" class=\"data row1 col0\" >0.263129</td>\n",
       "      <td id=\"T_685f3_row1_col1\" class=\"data row1 col1\" >1.000000</td>\n",
       "      <td id=\"T_685f3_row1_col2\" class=\"data row1 col2\" >0.298199</td>\n",
       "      <td id=\"T_685f3_row1_col3\" class=\"data row1 col3\" >0.098508</td>\n",
       "      <td id=\"T_685f3_row1_col4\" class=\"data row1 col4\" >0.213748</td>\n",
       "      <td id=\"T_685f3_row1_col5\" class=\"data row1 col5\" >0.096991</td>\n",
       "      <td id=\"T_685f3_row1_col6\" class=\"data row1 col6\" >0.129575</td>\n",
       "      <td id=\"T_685f3_row1_col7\" class=\"data row1 col7\" >0.209361</td>\n",
       "      <td id=\"T_685f3_row1_col8\" class=\"data row1 col8\" >-0.125267</td>\n",
       "      <td id=\"T_685f3_row1_col9\" class=\"data row1 col9\" >-0.040555</td>\n",
       "      <td id=\"T_685f3_row1_col10\" class=\"data row1 col10\" >-0.061266</td>\n",
       "      <td id=\"T_685f3_row1_col11\" class=\"data row1 col11\" >-0.003972</td>\n",
       "      <td id=\"T_685f3_row1_col12\" class=\"data row1 col12\" >0.038425</td>\n",
       "      <td id=\"T_685f3_row1_col13\" class=\"data row1 col13\" >0.017358</td>\n",
       "      <td id=\"T_685f3_row1_col14\" class=\"data row1 col14\" >0.300530</td>\n",
       "      <td id=\"T_685f3_row1_col15\" class=\"data row1 col15\" >0.056456</td>\n",
       "      <td id=\"T_685f3_row1_col16\" class=\"data row1 col16\" >0.161212</td>\n",
       "      <td id=\"T_685f3_row1_col17\" class=\"data row1 col17\" >0.223618</td>\n",
       "      <td id=\"T_685f3_row1_col18\" class=\"data row1 col18\" >0.052207</td>\n",
       "      <td id=\"T_685f3_row1_col19\" class=\"data row1 col19\" >0.344452</td>\n",
       "      <td id=\"T_685f3_row1_col20\" class=\"data row1 col20\" >-0.141358</td>\n",
       "      <td id=\"T_685f3_row1_col21\" class=\"data row1 col21\" >-0.171235</td>\n",
       "    </tr>\n",
       "    <tr>\n",
       "      <th id=\"T_685f3_level0_row2\" class=\"row_heading level0 row2\" >HighChol</th>\n",
       "      <td id=\"T_685f3_row2_col0\" class=\"data row2 col0\" >0.200276</td>\n",
       "      <td id=\"T_685f3_row2_col1\" class=\"data row2 col1\" >0.298199</td>\n",
       "      <td id=\"T_685f3_row2_col2\" class=\"data row2 col2\" >1.000000</td>\n",
       "      <td id=\"T_685f3_row2_col3\" class=\"data row2 col3\" >0.085642</td>\n",
       "      <td id=\"T_685f3_row2_col4\" class=\"data row2 col4\" >0.106722</td>\n",
       "      <td id=\"T_685f3_row2_col5\" class=\"data row2 col5\" >0.091299</td>\n",
       "      <td id=\"T_685f3_row2_col6\" class=\"data row2 col6\" >0.092620</td>\n",
       "      <td id=\"T_685f3_row2_col7\" class=\"data row2 col7\" >0.180765</td>\n",
       "      <td id=\"T_685f3_row2_col8\" class=\"data row2 col8\" >-0.078046</td>\n",
       "      <td id=\"T_685f3_row2_col9\" class=\"data row2 col9\" >-0.040859</td>\n",
       "      <td id=\"T_685f3_row2_col10\" class=\"data row2 col10\" >-0.039874</td>\n",
       "      <td id=\"T_685f3_row2_col11\" class=\"data row2 col11\" >-0.011543</td>\n",
       "      <td id=\"T_685f3_row2_col12\" class=\"data row2 col12\" >0.042230</td>\n",
       "      <td id=\"T_685f3_row2_col13\" class=\"data row2 col13\" >0.013310</td>\n",
       "      <td id=\"T_685f3_row2_col14\" class=\"data row2 col14\" >0.208426</td>\n",
       "      <td id=\"T_685f3_row2_col15\" class=\"data row2 col15\" >0.062069</td>\n",
       "      <td id=\"T_685f3_row2_col16\" class=\"data row2 col16\" >0.121751</td>\n",
       "      <td id=\"T_685f3_row2_col17\" class=\"data row2 col17\" >0.144672</td>\n",
       "      <td id=\"T_685f3_row2_col18\" class=\"data row2 col18\" >0.031205</td>\n",
       "      <td id=\"T_685f3_row2_col19\" class=\"data row2 col19\" >0.272318</td>\n",
       "      <td id=\"T_685f3_row2_col20\" class=\"data row2 col20\" >-0.070802</td>\n",
       "      <td id=\"T_685f3_row2_col21\" class=\"data row2 col21\" >-0.085459</td>\n",
       "    </tr>\n",
       "    <tr>\n",
       "      <th id=\"T_685f3_level0_row3\" class=\"row_heading level0 row3\" >CholCheck</th>\n",
       "      <td id=\"T_685f3_row3_col0\" class=\"data row3 col0\" >0.064761</td>\n",
       "      <td id=\"T_685f3_row3_col1\" class=\"data row3 col1\" >0.098508</td>\n",
       "      <td id=\"T_685f3_row3_col2\" class=\"data row3 col2\" >0.085642</td>\n",
       "      <td id=\"T_685f3_row3_col3\" class=\"data row3 col3\" >1.000000</td>\n",
       "      <td id=\"T_685f3_row3_col4\" class=\"data row3 col4\" >0.034495</td>\n",
       "      <td id=\"T_685f3_row3_col5\" class=\"data row3 col5\" >-0.009929</td>\n",
       "      <td id=\"T_685f3_row3_col6\" class=\"data row3 col6\" >0.024158</td>\n",
       "      <td id=\"T_685f3_row3_col7\" class=\"data row3 col7\" >0.044206</td>\n",
       "      <td id=\"T_685f3_row3_col8\" class=\"data row3 col8\" >0.004190</td>\n",
       "      <td id=\"T_685f3_row3_col9\" class=\"data row3 col9\" >0.023849</td>\n",
       "      <td id=\"T_685f3_row3_col10\" class=\"data row3 col10\" >0.006121</td>\n",
       "      <td id=\"T_685f3_row3_col11\" class=\"data row3 col11\" >-0.023730</td>\n",
       "      <td id=\"T_685f3_row3_col12\" class=\"data row3 col12\" >0.117626</td>\n",
       "      <td id=\"T_685f3_row3_col13\" class=\"data row3 col13\" >-0.058255</td>\n",
       "      <td id=\"T_685f3_row3_col14\" class=\"data row3 col14\" >0.046589</td>\n",
       "      <td id=\"T_685f3_row3_col15\" class=\"data row3 col15\" >-0.008366</td>\n",
       "      <td id=\"T_685f3_row3_col16\" class=\"data row3 col16\" >0.031775</td>\n",
       "      <td id=\"T_685f3_row3_col17\" class=\"data row3 col17\" >0.040585</td>\n",
       "      <td id=\"T_685f3_row3_col18\" class=\"data row3 col18\" >-0.022115</td>\n",
       "      <td id=\"T_685f3_row3_col19\" class=\"data row3 col19\" >0.090321</td>\n",
       "      <td id=\"T_685f3_row3_col20\" class=\"data row3 col20\" >0.001510</td>\n",
       "      <td id=\"T_685f3_row3_col21\" class=\"data row3 col21\" >0.014259</td>\n",
       "    </tr>\n",
       "    <tr>\n",
       "      <th id=\"T_685f3_level0_row4\" class=\"row_heading level0 row4\" >BMI</th>\n",
       "      <td id=\"T_685f3_row4_col0\" class=\"data row4 col0\" >0.216843</td>\n",
       "      <td id=\"T_685f3_row4_col1\" class=\"data row4 col1\" >0.213748</td>\n",
       "      <td id=\"T_685f3_row4_col2\" class=\"data row4 col2\" >0.106722</td>\n",
       "      <td id=\"T_685f3_row4_col3\" class=\"data row4 col3\" >0.034495</td>\n",
       "      <td id=\"T_685f3_row4_col4\" class=\"data row4 col4\" >1.000000</td>\n",
       "      <td id=\"T_685f3_row4_col5\" class=\"data row4 col5\" >0.013804</td>\n",
       "      <td id=\"T_685f3_row4_col6\" class=\"data row4 col6\" >0.020153</td>\n",
       "      <td id=\"T_685f3_row4_col7\" class=\"data row4 col7\" >0.052904</td>\n",
       "      <td id=\"T_685f3_row4_col8\" class=\"data row4 col8\" >-0.147294</td>\n",
       "      <td id=\"T_685f3_row4_col9\" class=\"data row4 col9\" >-0.087518</td>\n",
       "      <td id=\"T_685f3_row4_col10\" class=\"data row4 col10\" >-0.062275</td>\n",
       "      <td id=\"T_685f3_row4_col11\" class=\"data row4 col11\" >-0.048736</td>\n",
       "      <td id=\"T_685f3_row4_col12\" class=\"data row4 col12\" >-0.018471</td>\n",
       "      <td id=\"T_685f3_row4_col13\" class=\"data row4 col13\" >0.058206</td>\n",
       "      <td id=\"T_685f3_row4_col14\" class=\"data row4 col14\" >0.239185</td>\n",
       "      <td id=\"T_685f3_row4_col15\" class=\"data row4 col15\" >0.085310</td>\n",
       "      <td id=\"T_685f3_row4_col16\" class=\"data row4 col16\" >0.121141</td>\n",
       "      <td id=\"T_685f3_row4_col17\" class=\"data row4 col17\" >0.197078</td>\n",
       "      <td id=\"T_685f3_row4_col18\" class=\"data row4 col18\" >0.042950</td>\n",
       "      <td id=\"T_685f3_row4_col19\" class=\"data row4 col19\" >-0.036618</td>\n",
       "      <td id=\"T_685f3_row4_col20\" class=\"data row4 col20\" >-0.103932</td>\n",
       "      <td id=\"T_685f3_row4_col21\" class=\"data row4 col21\" >-0.100069</td>\n",
       "    </tr>\n",
       "    <tr>\n",
       "      <th id=\"T_685f3_level0_row5\" class=\"row_heading level0 row5\" >Smoker</th>\n",
       "      <td id=\"T_685f3_row5_col0\" class=\"data row5 col0\" >0.060789</td>\n",
       "      <td id=\"T_685f3_row5_col1\" class=\"data row5 col1\" >0.096991</td>\n",
       "      <td id=\"T_685f3_row5_col2\" class=\"data row5 col2\" >0.091299</td>\n",
       "      <td id=\"T_685f3_row5_col3\" class=\"data row5 col3\" >-0.009929</td>\n",
       "      <td id=\"T_685f3_row5_col4\" class=\"data row5 col4\" >0.013804</td>\n",
       "      <td id=\"T_685f3_row5_col5\" class=\"data row5 col5\" >1.000000</td>\n",
       "      <td id=\"T_685f3_row5_col6\" class=\"data row5 col6\" >0.061173</td>\n",
       "      <td id=\"T_685f3_row5_col7\" class=\"data row5 col7\" >0.114441</td>\n",
       "      <td id=\"T_685f3_row5_col8\" class=\"data row5 col8\" >-0.087401</td>\n",
       "      <td id=\"T_685f3_row5_col9\" class=\"data row5 col9\" >-0.077666</td>\n",
       "      <td id=\"T_685f3_row5_col10\" class=\"data row5 col10\" >-0.030678</td>\n",
       "      <td id=\"T_685f3_row5_col11\" class=\"data row5 col11\" >0.101619</td>\n",
       "      <td id=\"T_685f3_row5_col12\" class=\"data row5 col12\" >-0.023251</td>\n",
       "      <td id=\"T_685f3_row5_col13\" class=\"data row5 col13\" >0.048946</td>\n",
       "      <td id=\"T_685f3_row5_col14\" class=\"data row5 col14\" >0.163143</td>\n",
       "      <td id=\"T_685f3_row5_col15\" class=\"data row5 col15\" >0.092196</td>\n",
       "      <td id=\"T_685f3_row5_col16\" class=\"data row5 col16\" >0.116460</td>\n",
       "      <td id=\"T_685f3_row5_col17\" class=\"data row5 col17\" >0.122463</td>\n",
       "      <td id=\"T_685f3_row5_col18\" class=\"data row5 col18\" >0.093662</td>\n",
       "      <td id=\"T_685f3_row5_col19\" class=\"data row5 col19\" >0.120641</td>\n",
       "      <td id=\"T_685f3_row5_col20\" class=\"data row5 col20\" >-0.161955</td>\n",
       "      <td id=\"T_685f3_row5_col21\" class=\"data row5 col21\" >-0.123937</td>\n",
       "    </tr>\n",
       "    <tr>\n",
       "      <th id=\"T_685f3_level0_row6\" class=\"row_heading level0 row6\" >Stroke</th>\n",
       "      <td id=\"T_685f3_row6_col0\" class=\"data row6 col0\" >0.105816</td>\n",
       "      <td id=\"T_685f3_row6_col1\" class=\"data row6 col1\" >0.129575</td>\n",
       "      <td id=\"T_685f3_row6_col2\" class=\"data row6 col2\" >0.092620</td>\n",
       "      <td id=\"T_685f3_row6_col3\" class=\"data row6 col3\" >0.024158</td>\n",
       "      <td id=\"T_685f3_row6_col4\" class=\"data row6 col4\" >0.020153</td>\n",
       "      <td id=\"T_685f3_row6_col5\" class=\"data row6 col5\" >0.061173</td>\n",
       "      <td id=\"T_685f3_row6_col6\" class=\"data row6 col6\" >1.000000</td>\n",
       "      <td id=\"T_685f3_row6_col7\" class=\"data row6 col7\" >0.203002</td>\n",
       "      <td id=\"T_685f3_row6_col8\" class=\"data row6 col8\" >-0.069151</td>\n",
       "      <td id=\"T_685f3_row6_col9\" class=\"data row6 col9\" >-0.013389</td>\n",
       "      <td id=\"T_685f3_row6_col10\" class=\"data row6 col10\" >-0.041124</td>\n",
       "      <td id=\"T_685f3_row6_col11\" class=\"data row6 col11\" >-0.016950</td>\n",
       "      <td id=\"T_685f3_row6_col12\" class=\"data row6 col12\" >0.008776</td>\n",
       "      <td id=\"T_685f3_row6_col13\" class=\"data row6 col13\" >0.034804</td>\n",
       "      <td id=\"T_685f3_row6_col14\" class=\"data row6 col14\" >0.177942</td>\n",
       "      <td id=\"T_685f3_row6_col15\" class=\"data row6 col15\" >0.070172</td>\n",
       "      <td id=\"T_685f3_row6_col16\" class=\"data row6 col16\" >0.148944</td>\n",
       "      <td id=\"T_685f3_row6_col17\" class=\"data row6 col17\" >0.176567</td>\n",
       "      <td id=\"T_685f3_row6_col18\" class=\"data row6 col18\" >0.002978</td>\n",
       "      <td id=\"T_685f3_row6_col19\" class=\"data row6 col19\" >0.126974</td>\n",
       "      <td id=\"T_685f3_row6_col20\" class=\"data row6 col20\" >-0.076009</td>\n",
       "      <td id=\"T_685f3_row6_col21\" class=\"data row6 col21\" >-0.128599</td>\n",
       "    </tr>\n",
       "    <tr>\n",
       "      <th id=\"T_685f3_level0_row7\" class=\"row_heading level0 row7\" >HeartDiseaseorAttack</th>\n",
       "      <td id=\"T_685f3_row7_col0\" class=\"data row7 col0\" >0.177282</td>\n",
       "      <td id=\"T_685f3_row7_col1\" class=\"data row7 col1\" >0.209361</td>\n",
       "      <td id=\"T_685f3_row7_col2\" class=\"data row7 col2\" >0.180765</td>\n",
       "      <td id=\"T_685f3_row7_col3\" class=\"data row7 col3\" >0.044206</td>\n",
       "      <td id=\"T_685f3_row7_col4\" class=\"data row7 col4\" >0.052904</td>\n",
       "      <td id=\"T_685f3_row7_col5\" class=\"data row7 col5\" >0.114441</td>\n",
       "      <td id=\"T_685f3_row7_col6\" class=\"data row7 col6\" >0.203002</td>\n",
       "      <td id=\"T_685f3_row7_col7\" class=\"data row7 col7\" >1.000000</td>\n",
       "      <td id=\"T_685f3_row7_col8\" class=\"data row7 col8\" >-0.087299</td>\n",
       "      <td id=\"T_685f3_row7_col9\" class=\"data row7 col9\" >-0.019790</td>\n",
       "      <td id=\"T_685f3_row7_col10\" class=\"data row7 col10\" >-0.039167</td>\n",
       "      <td id=\"T_685f3_row7_col11\" class=\"data row7 col11\" >-0.028991</td>\n",
       "      <td id=\"T_685f3_row7_col12\" class=\"data row7 col12\" >0.018734</td>\n",
       "      <td id=\"T_685f3_row7_col13\" class=\"data row7 col13\" >0.031000</td>\n",
       "      <td id=\"T_685f3_row7_col14\" class=\"data row7 col14\" >0.258383</td>\n",
       "      <td id=\"T_685f3_row7_col15\" class=\"data row7 col15\" >0.064621</td>\n",
       "      <td id=\"T_685f3_row7_col16\" class=\"data row7 col16\" >0.181698</td>\n",
       "      <td id=\"T_685f3_row7_col17\" class=\"data row7 col17\" >0.212709</td>\n",
       "      <td id=\"T_685f3_row7_col18\" class=\"data row7 col18\" >0.086096</td>\n",
       "      <td id=\"T_685f3_row7_col19\" class=\"data row7 col19\" >0.221618</td>\n",
       "      <td id=\"T_685f3_row7_col20\" class=\"data row7 col20\" >-0.099600</td>\n",
       "      <td id=\"T_685f3_row7_col21\" class=\"data row7 col21\" >-0.141011</td>\n",
       "    </tr>\n",
       "    <tr>\n",
       "      <th id=\"T_685f3_level0_row8\" class=\"row_heading level0 row8\" >PhysActivity</th>\n",
       "      <td id=\"T_685f3_row8_col0\" class=\"data row8 col0\" >-0.118133</td>\n",
       "      <td id=\"T_685f3_row8_col1\" class=\"data row8 col1\" >-0.125267</td>\n",
       "      <td id=\"T_685f3_row8_col2\" class=\"data row8 col2\" >-0.078046</td>\n",
       "      <td id=\"T_685f3_row8_col3\" class=\"data row8 col3\" >0.004190</td>\n",
       "      <td id=\"T_685f3_row8_col4\" class=\"data row8 col4\" >-0.147294</td>\n",
       "      <td id=\"T_685f3_row8_col5\" class=\"data row8 col5\" >-0.087401</td>\n",
       "      <td id=\"T_685f3_row8_col6\" class=\"data row8 col6\" >-0.069151</td>\n",
       "      <td id=\"T_685f3_row8_col7\" class=\"data row8 col7\" >-0.087299</td>\n",
       "      <td id=\"T_685f3_row8_col8\" class=\"data row8 col8\" >1.000000</td>\n",
       "      <td id=\"T_685f3_row8_col9\" class=\"data row8 col9\" >0.142756</td>\n",
       "      <td id=\"T_685f3_row8_col10\" class=\"data row8 col10\" >0.153150</td>\n",
       "      <td id=\"T_685f3_row8_col11\" class=\"data row8 col11\" >0.012392</td>\n",
       "      <td id=\"T_685f3_row8_col12\" class=\"data row8 col12\" >0.035505</td>\n",
       "      <td id=\"T_685f3_row8_col13\" class=\"data row8 col13\" >-0.061638</td>\n",
       "      <td id=\"T_685f3_row8_col14\" class=\"data row8 col14\" >-0.266186</td>\n",
       "      <td id=\"T_685f3_row8_col15\" class=\"data row8 col15\" >-0.125587</td>\n",
       "      <td id=\"T_685f3_row8_col16\" class=\"data row8 col16\" >-0.219230</td>\n",
       "      <td id=\"T_685f3_row8_col17\" class=\"data row8 col17\" >-0.253174</td>\n",
       "      <td id=\"T_685f3_row8_col18\" class=\"data row8 col18\" >0.032482</td>\n",
       "      <td id=\"T_685f3_row8_col19\" class=\"data row8 col19\" >-0.092511</td>\n",
       "      <td id=\"T_685f3_row8_col20\" class=\"data row8 col20\" >0.199658</td>\n",
       "      <td id=\"T_685f3_row8_col21\" class=\"data row8 col21\" >0.198539</td>\n",
       "    </tr>\n",
       "    <tr>\n",
       "      <th id=\"T_685f3_level0_row9\" class=\"row_heading level0 row9\" >Fruits</th>\n",
       "      <td id=\"T_685f3_row9_col0\" class=\"data row9 col0\" >-0.040779</td>\n",
       "      <td id=\"T_685f3_row9_col1\" class=\"data row9 col1\" >-0.040555</td>\n",
       "      <td id=\"T_685f3_row9_col2\" class=\"data row9 col2\" >-0.040859</td>\n",
       "      <td id=\"T_685f3_row9_col3\" class=\"data row9 col3\" >0.023849</td>\n",
       "      <td id=\"T_685f3_row9_col4\" class=\"data row9 col4\" >-0.087518</td>\n",
       "      <td id=\"T_685f3_row9_col5\" class=\"data row9 col5\" >-0.077666</td>\n",
       "      <td id=\"T_685f3_row9_col6\" class=\"data row9 col6\" >-0.013389</td>\n",
       "      <td id=\"T_685f3_row9_col7\" class=\"data row9 col7\" >-0.019790</td>\n",
       "      <td id=\"T_685f3_row9_col8\" class=\"data row9 col8\" >0.142756</td>\n",
       "      <td id=\"T_685f3_row9_col9\" class=\"data row9 col9\" >1.000000</td>\n",
       "      <td id=\"T_685f3_row9_col10\" class=\"data row9 col10\" >0.254342</td>\n",
       "      <td id=\"T_685f3_row9_col11\" class=\"data row9 col11\" >-0.035288</td>\n",
       "      <td id=\"T_685f3_row9_col12\" class=\"data row9 col12\" >0.031544</td>\n",
       "      <td id=\"T_685f3_row9_col13\" class=\"data row9 col13\" >-0.044243</td>\n",
       "      <td id=\"T_685f3_row9_col14\" class=\"data row9 col14\" >-0.103854</td>\n",
       "      <td id=\"T_685f3_row9_col15\" class=\"data row9 col15\" >-0.068217</td>\n",
       "      <td id=\"T_685f3_row9_col16\" class=\"data row9 col16\" >-0.044633</td>\n",
       "      <td id=\"T_685f3_row9_col17\" class=\"data row9 col17\" >-0.048352</td>\n",
       "      <td id=\"T_685f3_row9_col18\" class=\"data row9 col18\" >-0.091175</td>\n",
       "      <td id=\"T_685f3_row9_col19\" class=\"data row9 col19\" >0.064547</td>\n",
       "      <td id=\"T_685f3_row9_col20\" class=\"data row9 col20\" >0.110187</td>\n",
       "      <td id=\"T_685f3_row9_col21\" class=\"data row9 col21\" >0.079929</td>\n",
       "    </tr>\n",
       "    <tr>\n",
       "      <th id=\"T_685f3_level0_row10\" class=\"row_heading level0 row10\" >Veggies</th>\n",
       "      <td id=\"T_685f3_row10_col0\" class=\"data row10 col0\" >-0.056584</td>\n",
       "      <td id=\"T_685f3_row10_col1\" class=\"data row10 col1\" >-0.061266</td>\n",
       "      <td id=\"T_685f3_row10_col2\" class=\"data row10 col2\" >-0.039874</td>\n",
       "      <td id=\"T_685f3_row10_col3\" class=\"data row10 col3\" >0.006121</td>\n",
       "      <td id=\"T_685f3_row10_col4\" class=\"data row10 col4\" >-0.062275</td>\n",
       "      <td id=\"T_685f3_row10_col5\" class=\"data row10 col5\" >-0.030678</td>\n",
       "      <td id=\"T_685f3_row10_col6\" class=\"data row10 col6\" >-0.041124</td>\n",
       "      <td id=\"T_685f3_row10_col7\" class=\"data row10 col7\" >-0.039167</td>\n",
       "      <td id=\"T_685f3_row10_col8\" class=\"data row10 col8\" >0.153150</td>\n",
       "      <td id=\"T_685f3_row10_col9\" class=\"data row10 col9\" >0.254342</td>\n",
       "      <td id=\"T_685f3_row10_col10\" class=\"data row10 col10\" >1.000000</td>\n",
       "      <td id=\"T_685f3_row10_col11\" class=\"data row10 col11\" >0.021064</td>\n",
       "      <td id=\"T_685f3_row10_col12\" class=\"data row10 col12\" >0.029584</td>\n",
       "      <td id=\"T_685f3_row10_col13\" class=\"data row10 col13\" >-0.032232</td>\n",
       "      <td id=\"T_685f3_row10_col14\" class=\"data row10 col14\" >-0.123066</td>\n",
       "      <td id=\"T_685f3_row10_col15\" class=\"data row10 col15\" >-0.058884</td>\n",
       "      <td id=\"T_685f3_row10_col16\" class=\"data row10 col16\" >-0.064290</td>\n",
       "      <td id=\"T_685f3_row10_col17\" class=\"data row10 col17\" >-0.080506</td>\n",
       "      <td id=\"T_685f3_row10_col18\" class=\"data row10 col18\" >-0.064765</td>\n",
       "      <td id=\"T_685f3_row10_col19\" class=\"data row10 col19\" >-0.009771</td>\n",
       "      <td id=\"T_685f3_row10_col20\" class=\"data row10 col20\" >0.154329</td>\n",
       "      <td id=\"T_685f3_row10_col21\" class=\"data row10 col21\" >0.151087</td>\n",
       "    </tr>\n",
       "    <tr>\n",
       "      <th id=\"T_685f3_level0_row11\" class=\"row_heading level0 row11\" >HvyAlcoholConsump</th>\n",
       "      <td id=\"T_685f3_row11_col0\" class=\"data row11 col0\" >-0.057056</td>\n",
       "      <td id=\"T_685f3_row11_col1\" class=\"data row11 col1\" >-0.003972</td>\n",
       "      <td id=\"T_685f3_row11_col2\" class=\"data row11 col2\" >-0.011543</td>\n",
       "      <td id=\"T_685f3_row11_col3\" class=\"data row11 col3\" >-0.023730</td>\n",
       "      <td id=\"T_685f3_row11_col4\" class=\"data row11 col4\" >-0.048736</td>\n",
       "      <td id=\"T_685f3_row11_col5\" class=\"data row11 col5\" >0.101619</td>\n",
       "      <td id=\"T_685f3_row11_col6\" class=\"data row11 col6\" >-0.016950</td>\n",
       "      <td id=\"T_685f3_row11_col7\" class=\"data row11 col7\" >-0.028991</td>\n",
       "      <td id=\"T_685f3_row11_col8\" class=\"data row11 col8\" >0.012392</td>\n",
       "      <td id=\"T_685f3_row11_col9\" class=\"data row11 col9\" >-0.035288</td>\n",
       "      <td id=\"T_685f3_row11_col10\" class=\"data row11 col10\" >0.021064</td>\n",
       "      <td id=\"T_685f3_row11_col11\" class=\"data row11 col11\" >1.000000</td>\n",
       "      <td id=\"T_685f3_row11_col12\" class=\"data row11 col12\" >-0.010488</td>\n",
       "      <td id=\"T_685f3_row11_col13\" class=\"data row11 col13\" >0.004684</td>\n",
       "      <td id=\"T_685f3_row11_col14\" class=\"data row11 col14\" >-0.036724</td>\n",
       "      <td id=\"T_685f3_row11_col15\" class=\"data row11 col15\" >0.024716</td>\n",
       "      <td id=\"T_685f3_row11_col16\" class=\"data row11 col16\" >-0.026415</td>\n",
       "      <td id=\"T_685f3_row11_col17\" class=\"data row11 col17\" >-0.037668</td>\n",
       "      <td id=\"T_685f3_row11_col18\" class=\"data row11 col18\" >0.005740</td>\n",
       "      <td id=\"T_685f3_row11_col19\" class=\"data row11 col19\" >-0.034578</td>\n",
       "      <td id=\"T_685f3_row11_col20\" class=\"data row11 col20\" >0.023997</td>\n",
       "      <td id=\"T_685f3_row11_col21\" class=\"data row11 col21\" >0.053619</td>\n",
       "    </tr>\n",
       "    <tr>\n",
       "      <th id=\"T_685f3_level0_row12\" class=\"row_heading level0 row12\" >AnyHealthcare</th>\n",
       "      <td id=\"T_685f3_row12_col0\" class=\"data row12 col0\" >0.016255</td>\n",
       "      <td id=\"T_685f3_row12_col1\" class=\"data row12 col1\" >0.038425</td>\n",
       "      <td id=\"T_685f3_row12_col2\" class=\"data row12 col2\" >0.042230</td>\n",
       "      <td id=\"T_685f3_row12_col3\" class=\"data row12 col3\" >0.117626</td>\n",
       "      <td id=\"T_685f3_row12_col4\" class=\"data row12 col4\" >-0.018471</td>\n",
       "      <td id=\"T_685f3_row12_col5\" class=\"data row12 col5\" >-0.023251</td>\n",
       "      <td id=\"T_685f3_row12_col6\" class=\"data row12 col6\" >0.008776</td>\n",
       "      <td id=\"T_685f3_row12_col7\" class=\"data row12 col7\" >0.018734</td>\n",
       "      <td id=\"T_685f3_row12_col8\" class=\"data row12 col8\" >0.035505</td>\n",
       "      <td id=\"T_685f3_row12_col9\" class=\"data row12 col9\" >0.031544</td>\n",
       "      <td id=\"T_685f3_row12_col10\" class=\"data row12 col10\" >0.029584</td>\n",
       "      <td id=\"T_685f3_row12_col11\" class=\"data row12 col11\" >-0.010488</td>\n",
       "      <td id=\"T_685f3_row12_col12\" class=\"data row12 col12\" >1.000000</td>\n",
       "      <td id=\"T_685f3_row12_col13\" class=\"data row12 col13\" >-0.232532</td>\n",
       "      <td id=\"T_685f3_row12_col14\" class=\"data row12 col14\" >-0.040817</td>\n",
       "      <td id=\"T_685f3_row12_col15\" class=\"data row12 col15\" >-0.052707</td>\n",
       "      <td id=\"T_685f3_row12_col16\" class=\"data row12 col16\" >-0.008276</td>\n",
       "      <td id=\"T_685f3_row12_col17\" class=\"data row12 col17\" >0.007074</td>\n",
       "      <td id=\"T_685f3_row12_col18\" class=\"data row12 col18\" >-0.019405</td>\n",
       "      <td id=\"T_685f3_row12_col19\" class=\"data row12 col19\" >0.138046</td>\n",
       "      <td id=\"T_685f3_row12_col20\" class=\"data row12 col20\" >0.122514</td>\n",
       "      <td id=\"T_685f3_row12_col21\" class=\"data row12 col21\" >0.157999</td>\n",
       "    </tr>\n",
       "    <tr>\n",
       "      <th id=\"T_685f3_level0_row13\" class=\"row_heading level0 row13\" >NoDocbcCost</th>\n",
       "      <td id=\"T_685f3_row13_col0\" class=\"data row13 col0\" >0.031433</td>\n",
       "      <td id=\"T_685f3_row13_col1\" class=\"data row13 col1\" >0.017358</td>\n",
       "      <td id=\"T_685f3_row13_col2\" class=\"data row13 col2\" >0.013310</td>\n",
       "      <td id=\"T_685f3_row13_col3\" class=\"data row13 col3\" >-0.058255</td>\n",
       "      <td id=\"T_685f3_row13_col4\" class=\"data row13 col4\" >0.058206</td>\n",
       "      <td id=\"T_685f3_row13_col5\" class=\"data row13 col5\" >0.048946</td>\n",
       "      <td id=\"T_685f3_row13_col6\" class=\"data row13 col6\" >0.034804</td>\n",
       "      <td id=\"T_685f3_row13_col7\" class=\"data row13 col7\" >0.031000</td>\n",
       "      <td id=\"T_685f3_row13_col8\" class=\"data row13 col8\" >-0.061638</td>\n",
       "      <td id=\"T_685f3_row13_col9\" class=\"data row13 col9\" >-0.044243</td>\n",
       "      <td id=\"T_685f3_row13_col10\" class=\"data row13 col10\" >-0.032232</td>\n",
       "      <td id=\"T_685f3_row13_col11\" class=\"data row13 col11\" >0.004684</td>\n",
       "      <td id=\"T_685f3_row13_col12\" class=\"data row13 col12\" >-0.232532</td>\n",
       "      <td id=\"T_685f3_row13_col13\" class=\"data row13 col13\" >1.000000</td>\n",
       "      <td id=\"T_685f3_row13_col14\" class=\"data row13 col14\" >0.166397</td>\n",
       "      <td id=\"T_685f3_row13_col15\" class=\"data row13 col15\" >0.192107</td>\n",
       "      <td id=\"T_685f3_row13_col16\" class=\"data row13 col16\" >0.148998</td>\n",
       "      <td id=\"T_685f3_row13_col17\" class=\"data row13 col17\" >0.118447</td>\n",
       "      <td id=\"T_685f3_row13_col18\" class=\"data row13 col18\" >-0.044931</td>\n",
       "      <td id=\"T_685f3_row13_col19\" class=\"data row13 col19\" >-0.119777</td>\n",
       "      <td id=\"T_685f3_row13_col20\" class=\"data row13 col20\" >-0.100701</td>\n",
       "      <td id=\"T_685f3_row13_col21\" class=\"data row13 col21\" >-0.203182</td>\n",
       "    </tr>\n",
       "    <tr>\n",
       "      <th id=\"T_685f3_level0_row14\" class=\"row_heading level0 row14\" >GenHlth</th>\n",
       "      <td id=\"T_685f3_row14_col0\" class=\"data row14 col0\" >0.293569</td>\n",
       "      <td id=\"T_685f3_row14_col1\" class=\"data row14 col1\" >0.300530</td>\n",
       "      <td id=\"T_685f3_row14_col2\" class=\"data row14 col2\" >0.208426</td>\n",
       "      <td id=\"T_685f3_row14_col3\" class=\"data row14 col3\" >0.046589</td>\n",
       "      <td id=\"T_685f3_row14_col4\" class=\"data row14 col4\" >0.239185</td>\n",
       "      <td id=\"T_685f3_row14_col5\" class=\"data row14 col5\" >0.163143</td>\n",
       "      <td id=\"T_685f3_row14_col6\" class=\"data row14 col6\" >0.177942</td>\n",
       "      <td id=\"T_685f3_row14_col7\" class=\"data row14 col7\" >0.258383</td>\n",
       "      <td id=\"T_685f3_row14_col8\" class=\"data row14 col8\" >-0.266186</td>\n",
       "      <td id=\"T_685f3_row14_col9\" class=\"data row14 col9\" >-0.103854</td>\n",
       "      <td id=\"T_685f3_row14_col10\" class=\"data row14 col10\" >-0.123066</td>\n",
       "      <td id=\"T_685f3_row14_col11\" class=\"data row14 col11\" >-0.036724</td>\n",
       "      <td id=\"T_685f3_row14_col12\" class=\"data row14 col12\" >-0.040817</td>\n",
       "      <td id=\"T_685f3_row14_col13\" class=\"data row14 col13\" >0.166397</td>\n",
       "      <td id=\"T_685f3_row14_col14\" class=\"data row14 col14\" >1.000000</td>\n",
       "      <td id=\"T_685f3_row14_col15\" class=\"data row14 col15\" >0.301674</td>\n",
       "      <td id=\"T_685f3_row14_col16\" class=\"data row14 col16\" >0.524364</td>\n",
       "      <td id=\"T_685f3_row14_col17\" class=\"data row14 col17\" >0.456920</td>\n",
       "      <td id=\"T_685f3_row14_col18\" class=\"data row14 col18\" >-0.006091</td>\n",
       "      <td id=\"T_685f3_row14_col19\" class=\"data row14 col19\" >0.152450</td>\n",
       "      <td id=\"T_685f3_row14_col20\" class=\"data row14 col20\" >-0.284912</td>\n",
       "      <td id=\"T_685f3_row14_col21\" class=\"data row14 col21\" >-0.370014</td>\n",
       "    </tr>\n",
       "    <tr>\n",
       "      <th id=\"T_685f3_level0_row15\" class=\"row_heading level0 row15\" >MentHlth</th>\n",
       "      <td id=\"T_685f3_row15_col0\" class=\"data row15 col0\" >0.069315</td>\n",
       "      <td id=\"T_685f3_row15_col1\" class=\"data row15 col1\" >0.056456</td>\n",
       "      <td id=\"T_685f3_row15_col2\" class=\"data row15 col2\" >0.062069</td>\n",
       "      <td id=\"T_685f3_row15_col3\" class=\"data row15 col3\" >-0.008366</td>\n",
       "      <td id=\"T_685f3_row15_col4\" class=\"data row15 col4\" >0.085310</td>\n",
       "      <td id=\"T_685f3_row15_col5\" class=\"data row15 col5\" >0.092196</td>\n",
       "      <td id=\"T_685f3_row15_col6\" class=\"data row15 col6\" >0.070172</td>\n",
       "      <td id=\"T_685f3_row15_col7\" class=\"data row15 col7\" >0.064621</td>\n",
       "      <td id=\"T_685f3_row15_col8\" class=\"data row15 col8\" >-0.125587</td>\n",
       "      <td id=\"T_685f3_row15_col9\" class=\"data row15 col9\" >-0.068217</td>\n",
       "      <td id=\"T_685f3_row15_col10\" class=\"data row15 col10\" >-0.058884</td>\n",
       "      <td id=\"T_685f3_row15_col11\" class=\"data row15 col11\" >0.024716</td>\n",
       "      <td id=\"T_685f3_row15_col12\" class=\"data row15 col12\" >-0.052707</td>\n",
       "      <td id=\"T_685f3_row15_col13\" class=\"data row15 col13\" >0.192107</td>\n",
       "      <td id=\"T_685f3_row15_col14\" class=\"data row15 col14\" >0.301674</td>\n",
       "      <td id=\"T_685f3_row15_col15\" class=\"data row15 col15\" >1.000000</td>\n",
       "      <td id=\"T_685f3_row15_col16\" class=\"data row15 col16\" >0.353619</td>\n",
       "      <td id=\"T_685f3_row15_col17\" class=\"data row15 col17\" >0.233688</td>\n",
       "      <td id=\"T_685f3_row15_col18\" class=\"data row15 col18\" >-0.080705</td>\n",
       "      <td id=\"T_685f3_row15_col19\" class=\"data row15 col19\" >-0.092068</td>\n",
       "      <td id=\"T_685f3_row15_col20\" class=\"data row15 col20\" >-0.101830</td>\n",
       "      <td id=\"T_685f3_row15_col21\" class=\"data row15 col21\" >-0.209806</td>\n",
       "    </tr>\n",
       "    <tr>\n",
       "      <th id=\"T_685f3_level0_row16\" class=\"row_heading level0 row16\" >PhysHlth</th>\n",
       "      <td id=\"T_685f3_row16_col0\" class=\"data row16 col0\" >0.171337</td>\n",
       "      <td id=\"T_685f3_row16_col1\" class=\"data row16 col1\" >0.161212</td>\n",
       "      <td id=\"T_685f3_row16_col2\" class=\"data row16 col2\" >0.121751</td>\n",
       "      <td id=\"T_685f3_row16_col3\" class=\"data row16 col3\" >0.031775</td>\n",
       "      <td id=\"T_685f3_row16_col4\" class=\"data row16 col4\" >0.121141</td>\n",
       "      <td id=\"T_685f3_row16_col5\" class=\"data row16 col5\" >0.116460</td>\n",
       "      <td id=\"T_685f3_row16_col6\" class=\"data row16 col6\" >0.148944</td>\n",
       "      <td id=\"T_685f3_row16_col7\" class=\"data row16 col7\" >0.181698</td>\n",
       "      <td id=\"T_685f3_row16_col8\" class=\"data row16 col8\" >-0.219230</td>\n",
       "      <td id=\"T_685f3_row16_col9\" class=\"data row16 col9\" >-0.044633</td>\n",
       "      <td id=\"T_685f3_row16_col10\" class=\"data row16 col10\" >-0.064290</td>\n",
       "      <td id=\"T_685f3_row16_col11\" class=\"data row16 col11\" >-0.026415</td>\n",
       "      <td id=\"T_685f3_row16_col12\" class=\"data row16 col12\" >-0.008276</td>\n",
       "      <td id=\"T_685f3_row16_col13\" class=\"data row16 col13\" >0.148998</td>\n",
       "      <td id=\"T_685f3_row16_col14\" class=\"data row16 col14\" >0.524364</td>\n",
       "      <td id=\"T_685f3_row16_col15\" class=\"data row16 col15\" >0.353619</td>\n",
       "      <td id=\"T_685f3_row16_col16\" class=\"data row16 col16\" >1.000000</td>\n",
       "      <td id=\"T_685f3_row16_col17\" class=\"data row16 col17\" >0.478417</td>\n",
       "      <td id=\"T_685f3_row16_col18\" class=\"data row16 col18\" >-0.043137</td>\n",
       "      <td id=\"T_685f3_row16_col19\" class=\"data row16 col19\" >0.099130</td>\n",
       "      <td id=\"T_685f3_row16_col20\" class=\"data row16 col20\" >-0.155093</td>\n",
       "      <td id=\"T_685f3_row16_col21\" class=\"data row16 col21\" >-0.266799</td>\n",
       "    </tr>\n",
       "    <tr>\n",
       "      <th id=\"T_685f3_level0_row17\" class=\"row_heading level0 row17\" >DiffWalk</th>\n",
       "      <td id=\"T_685f3_row17_col0\" class=\"data row17 col0\" >0.218344</td>\n",
       "      <td id=\"T_685f3_row17_col1\" class=\"data row17 col1\" >0.223618</td>\n",
       "      <td id=\"T_685f3_row17_col2\" class=\"data row17 col2\" >0.144672</td>\n",
       "      <td id=\"T_685f3_row17_col3\" class=\"data row17 col3\" >0.040585</td>\n",
       "      <td id=\"T_685f3_row17_col4\" class=\"data row17 col4\" >0.197078</td>\n",
       "      <td id=\"T_685f3_row17_col5\" class=\"data row17 col5\" >0.122463</td>\n",
       "      <td id=\"T_685f3_row17_col6\" class=\"data row17 col6\" >0.176567</td>\n",
       "      <td id=\"T_685f3_row17_col7\" class=\"data row17 col7\" >0.212709</td>\n",
       "      <td id=\"T_685f3_row17_col8\" class=\"data row17 col8\" >-0.253174</td>\n",
       "      <td id=\"T_685f3_row17_col9\" class=\"data row17 col9\" >-0.048352</td>\n",
       "      <td id=\"T_685f3_row17_col10\" class=\"data row17 col10\" >-0.080506</td>\n",
       "      <td id=\"T_685f3_row17_col11\" class=\"data row17 col11\" >-0.037668</td>\n",
       "      <td id=\"T_685f3_row17_col12\" class=\"data row17 col12\" >0.007074</td>\n",
       "      <td id=\"T_685f3_row17_col13\" class=\"data row17 col13\" >0.118447</td>\n",
       "      <td id=\"T_685f3_row17_col14\" class=\"data row17 col14\" >0.456920</td>\n",
       "      <td id=\"T_685f3_row17_col15\" class=\"data row17 col15\" >0.233688</td>\n",
       "      <td id=\"T_685f3_row17_col16\" class=\"data row17 col16\" >0.478417</td>\n",
       "      <td id=\"T_685f3_row17_col17\" class=\"data row17 col17\" >1.000000</td>\n",
       "      <td id=\"T_685f3_row17_col18\" class=\"data row17 col18\" >-0.070299</td>\n",
       "      <td id=\"T_685f3_row17_col19\" class=\"data row17 col19\" >0.204450</td>\n",
       "      <td id=\"T_685f3_row17_col20\" class=\"data row17 col20\" >-0.192642</td>\n",
       "      <td id=\"T_685f3_row17_col21\" class=\"data row17 col21\" >-0.320124</td>\n",
       "    </tr>\n",
       "    <tr>\n",
       "      <th id=\"T_685f3_level0_row18\" class=\"row_heading level0 row18\" >Sex</th>\n",
       "      <td id=\"T_685f3_row18_col0\" class=\"data row18 col0\" >0.031430</td>\n",
       "      <td id=\"T_685f3_row18_col1\" class=\"data row18 col1\" >0.052207</td>\n",
       "      <td id=\"T_685f3_row18_col2\" class=\"data row18 col2\" >0.031205</td>\n",
       "      <td id=\"T_685f3_row18_col3\" class=\"data row18 col3\" >-0.022115</td>\n",
       "      <td id=\"T_685f3_row18_col4\" class=\"data row18 col4\" >0.042950</td>\n",
       "      <td id=\"T_685f3_row18_col5\" class=\"data row18 col5\" >0.093662</td>\n",
       "      <td id=\"T_685f3_row18_col6\" class=\"data row18 col6\" >0.002978</td>\n",
       "      <td id=\"T_685f3_row18_col7\" class=\"data row18 col7\" >0.086096</td>\n",
       "      <td id=\"T_685f3_row18_col8\" class=\"data row18 col8\" >0.032482</td>\n",
       "      <td id=\"T_685f3_row18_col9\" class=\"data row18 col9\" >-0.091175</td>\n",
       "      <td id=\"T_685f3_row18_col10\" class=\"data row18 col10\" >-0.064765</td>\n",
       "      <td id=\"T_685f3_row18_col11\" class=\"data row18 col11\" >0.005740</td>\n",
       "      <td id=\"T_685f3_row18_col12\" class=\"data row18 col12\" >-0.019405</td>\n",
       "      <td id=\"T_685f3_row18_col13\" class=\"data row18 col13\" >-0.044931</td>\n",
       "      <td id=\"T_685f3_row18_col14\" class=\"data row18 col14\" >-0.006091</td>\n",
       "      <td id=\"T_685f3_row18_col15\" class=\"data row18 col15\" >-0.080705</td>\n",
       "      <td id=\"T_685f3_row18_col16\" class=\"data row18 col16\" >-0.043137</td>\n",
       "      <td id=\"T_685f3_row18_col17\" class=\"data row18 col17\" >-0.070299</td>\n",
       "      <td id=\"T_685f3_row18_col18\" class=\"data row18 col18\" >1.000000</td>\n",
       "      <td id=\"T_685f3_row18_col19\" class=\"data row18 col19\" >-0.027340</td>\n",
       "      <td id=\"T_685f3_row18_col20\" class=\"data row18 col20\" >0.019480</td>\n",
       "      <td id=\"T_685f3_row18_col21\" class=\"data row18 col21\" >0.127141</td>\n",
       "    </tr>\n",
       "    <tr>\n",
       "      <th id=\"T_685f3_level0_row19\" class=\"row_heading level0 row19\" >Age</th>\n",
       "      <td id=\"T_685f3_row19_col0\" class=\"data row19 col0\" >0.177442</td>\n",
       "      <td id=\"T_685f3_row19_col1\" class=\"data row19 col1\" >0.344452</td>\n",
       "      <td id=\"T_685f3_row19_col2\" class=\"data row19 col2\" >0.272318</td>\n",
       "      <td id=\"T_685f3_row19_col3\" class=\"data row19 col3\" >0.090321</td>\n",
       "      <td id=\"T_685f3_row19_col4\" class=\"data row19 col4\" >-0.036618</td>\n",
       "      <td id=\"T_685f3_row19_col5\" class=\"data row19 col5\" >0.120641</td>\n",
       "      <td id=\"T_685f3_row19_col6\" class=\"data row19 col6\" >0.126974</td>\n",
       "      <td id=\"T_685f3_row19_col7\" class=\"data row19 col7\" >0.221618</td>\n",
       "      <td id=\"T_685f3_row19_col8\" class=\"data row19 col8\" >-0.092511</td>\n",
       "      <td id=\"T_685f3_row19_col9\" class=\"data row19 col9\" >0.064547</td>\n",
       "      <td id=\"T_685f3_row19_col10\" class=\"data row19 col10\" >-0.009771</td>\n",
       "      <td id=\"T_685f3_row19_col11\" class=\"data row19 col11\" >-0.034578</td>\n",
       "      <td id=\"T_685f3_row19_col12\" class=\"data row19 col12\" >0.138046</td>\n",
       "      <td id=\"T_685f3_row19_col13\" class=\"data row19 col13\" >-0.119777</td>\n",
       "      <td id=\"T_685f3_row19_col14\" class=\"data row19 col14\" >0.152450</td>\n",
       "      <td id=\"T_685f3_row19_col15\" class=\"data row19 col15\" >-0.092068</td>\n",
       "      <td id=\"T_685f3_row19_col16\" class=\"data row19 col16\" >0.099130</td>\n",
       "      <td id=\"T_685f3_row19_col17\" class=\"data row19 col17\" >0.204450</td>\n",
       "      <td id=\"T_685f3_row19_col18\" class=\"data row19 col18\" >-0.027340</td>\n",
       "      <td id=\"T_685f3_row19_col19\" class=\"data row19 col19\" >1.000000</td>\n",
       "      <td id=\"T_685f3_row19_col20\" class=\"data row19 col20\" >-0.101901</td>\n",
       "      <td id=\"T_685f3_row19_col21\" class=\"data row19 col21\" >-0.127775</td>\n",
       "    </tr>\n",
       "    <tr>\n",
       "      <th id=\"T_685f3_level0_row20\" class=\"row_heading level0 row20\" >Education</th>\n",
       "      <td id=\"T_685f3_row20_col0\" class=\"data row20 col0\" >-0.124456</td>\n",
       "      <td id=\"T_685f3_row20_col1\" class=\"data row20 col1\" >-0.141358</td>\n",
       "      <td id=\"T_685f3_row20_col2\" class=\"data row20 col2\" >-0.070802</td>\n",
       "      <td id=\"T_685f3_row20_col3\" class=\"data row20 col3\" >0.001510</td>\n",
       "      <td id=\"T_685f3_row20_col4\" class=\"data row20 col4\" >-0.103932</td>\n",
       "      <td id=\"T_685f3_row20_col5\" class=\"data row20 col5\" >-0.161955</td>\n",
       "      <td id=\"T_685f3_row20_col6\" class=\"data row20 col6\" >-0.076009</td>\n",
       "      <td id=\"T_685f3_row20_col7\" class=\"data row20 col7\" >-0.099600</td>\n",
       "      <td id=\"T_685f3_row20_col8\" class=\"data row20 col8\" >0.199658</td>\n",
       "      <td id=\"T_685f3_row20_col9\" class=\"data row20 col9\" >0.110187</td>\n",
       "      <td id=\"T_685f3_row20_col10\" class=\"data row20 col10\" >0.154329</td>\n",
       "      <td id=\"T_685f3_row20_col11\" class=\"data row20 col11\" >0.023997</td>\n",
       "      <td id=\"T_685f3_row20_col12\" class=\"data row20 col12\" >0.122514</td>\n",
       "      <td id=\"T_685f3_row20_col13\" class=\"data row20 col13\" >-0.100701</td>\n",
       "      <td id=\"T_685f3_row20_col14\" class=\"data row20 col14\" >-0.284912</td>\n",
       "      <td id=\"T_685f3_row20_col15\" class=\"data row20 col15\" >-0.101830</td>\n",
       "      <td id=\"T_685f3_row20_col16\" class=\"data row20 col16\" >-0.155093</td>\n",
       "      <td id=\"T_685f3_row20_col17\" class=\"data row20 col17\" >-0.192642</td>\n",
       "      <td id=\"T_685f3_row20_col18\" class=\"data row20 col18\" >0.019480</td>\n",
       "      <td id=\"T_685f3_row20_col19\" class=\"data row20 col19\" >-0.101901</td>\n",
       "      <td id=\"T_685f3_row20_col20\" class=\"data row20 col20\" >1.000000</td>\n",
       "      <td id=\"T_685f3_row20_col21\" class=\"data row20 col21\" >0.449106</td>\n",
       "    </tr>\n",
       "    <tr>\n",
       "      <th id=\"T_685f3_level0_row21\" class=\"row_heading level0 row21\" >Income</th>\n",
       "      <td id=\"T_685f3_row21_col0\" class=\"data row21 col0\" >-0.163919</td>\n",
       "      <td id=\"T_685f3_row21_col1\" class=\"data row21 col1\" >-0.171235</td>\n",
       "      <td id=\"T_685f3_row21_col2\" class=\"data row21 col2\" >-0.085459</td>\n",
       "      <td id=\"T_685f3_row21_col3\" class=\"data row21 col3\" >0.014259</td>\n",
       "      <td id=\"T_685f3_row21_col4\" class=\"data row21 col4\" >-0.100069</td>\n",
       "      <td id=\"T_685f3_row21_col5\" class=\"data row21 col5\" >-0.123937</td>\n",
       "      <td id=\"T_685f3_row21_col6\" class=\"data row21 col6\" >-0.128599</td>\n",
       "      <td id=\"T_685f3_row21_col7\" class=\"data row21 col7\" >-0.141011</td>\n",
       "      <td id=\"T_685f3_row21_col8\" class=\"data row21 col8\" >0.198539</td>\n",
       "      <td id=\"T_685f3_row21_col9\" class=\"data row21 col9\" >0.079929</td>\n",
       "      <td id=\"T_685f3_row21_col10\" class=\"data row21 col10\" >0.151087</td>\n",
       "      <td id=\"T_685f3_row21_col11\" class=\"data row21 col11\" >0.053619</td>\n",
       "      <td id=\"T_685f3_row21_col12\" class=\"data row21 col12\" >0.157999</td>\n",
       "      <td id=\"T_685f3_row21_col13\" class=\"data row21 col13\" >-0.203182</td>\n",
       "      <td id=\"T_685f3_row21_col14\" class=\"data row21 col14\" >-0.370014</td>\n",
       "      <td id=\"T_685f3_row21_col15\" class=\"data row21 col15\" >-0.209806</td>\n",
       "      <td id=\"T_685f3_row21_col16\" class=\"data row21 col16\" >-0.266799</td>\n",
       "      <td id=\"T_685f3_row21_col17\" class=\"data row21 col17\" >-0.320124</td>\n",
       "      <td id=\"T_685f3_row21_col18\" class=\"data row21 col18\" >0.127141</td>\n",
       "      <td id=\"T_685f3_row21_col19\" class=\"data row21 col19\" >-0.127775</td>\n",
       "      <td id=\"T_685f3_row21_col20\" class=\"data row21 col20\" >0.449106</td>\n",
       "      <td id=\"T_685f3_row21_col21\" class=\"data row21 col21\" >1.000000</td>\n",
       "    </tr>\n",
       "  </tbody>\n",
       "</table>\n"
      ],
      "text/plain": [
       "<pandas.io.formats.style.Styler at 0x1485747aed0>"
      ]
     },
     "execution_count": 16,
     "metadata": {},
     "output_type": "execute_result"
    }
   ],
   "source": [
    "# Create a correlation matrix\n",
    "corr_matrix = df.corr()\n",
    "# conditional formatting for better readability\n",
    "cm = sns.light_palette(\"seagreen\", as_cmap=True)\n",
    "corr_matrix_style = corr_matrix.style.background_gradient(cmap = cm)\n",
    "corr_matrix_style"
   ]
  },
  {
   "cell_type": "code",
   "execution_count": 17,
   "id": "509487de",
   "metadata": {
    "execution": {
     "iopub.execute_input": "2024-10-27T01:36:44.831938Z",
     "iopub.status.busy": "2024-10-27T01:36:44.831458Z",
     "iopub.status.idle": "2024-10-27T01:36:45.474028Z",
     "shell.execute_reply": "2024-10-27T01:36:45.473104Z"
    },
    "papermill": {
     "duration": 0.665746,
     "end_time": "2024-10-27T01:36:45.476033",
     "exception": false,
     "start_time": "2024-10-27T01:36:44.810287",
     "status": "completed"
    },
    "tags": []
   },
   "outputs": [
    {
     "data": {
      "text/plain": [
       "<Axes: >"
      ]
     },
     "execution_count": 17,
     "metadata": {},
     "output_type": "execute_result"
    },
    {
     "data": {
      "image/png": "[encoded data removed]",
      "text/plain": [
       "<Figure size 1200x1000 with 2 Axes>"
      ]
     },
     "metadata": {},
     "output_type": "display_data"
    }
   ],
   "source": [
    "# Visualize relationship between all variables\n",
    "plt.figure(figsize=(12,10))\n",
    "sns.heatmap(data=corr_matrix, cmap='crest')"
   ]
  },
  {
   "cell_type": "markdown",
   "id": "9d2f445e",
   "metadata": {
    "papermill": {
     "duration": 0.021145,
     "end_time": "2024-10-27T01:36:45.518713",
     "exception": false,
     "start_time": "2024-10-27T01:36:45.497568",
     "status": "completed"
    },
    "tags": []
   },
   "source": [
    "# Observations\n",
    "* Both females and males are vulnerable to diabetes. \n",
    "* Age groups that are most affected by diabetes 60-64, 65-70, 70-74. \n",
    "* People with diabetes have higher BMI.\n",
    "* People with diabetes tend to have high cholesterol levels and high blood pressure.\n",
    "* Diabetics have fewer physical activities and difficulty walking.\n",
    "* Smoking and alcohol consumption doesn't affect diabetes status much. \n",
    "* Variables correlated with diabetes status are general health, high blood pressure, high cholesterol, BMI, difficulties in walking, and age. "
   ]
  },
  {
   "cell_type": "markdown",
   "id": "2788270c",
   "metadata": {
    "papermill": {
     "duration": 0.020643,
     "end_time": "2024-10-27T01:36:45.560335",
     "exception": false,
     "start_time": "2024-10-27T01:36:45.539692",
     "status": "completed"
    },
    "tags": []
   },
   "source": [
    "# Hypothesis testing\n",
    "Let's set up some hypothesis and test them to determine if our observations are likely to have really occurred based on statistics.\n",
    "\n",
    "# 1. Do no-diabetes and diabetics have the same BMI?\n",
    "\n",
    "* H0 - no-diabetes and diabetics have the same average BMI.\n",
    "* Ha - no-diabetes and diabetics have different average BMI."
   ]
  },
  {
   "cell_type": "code",
   "execution_count": 18,
   "id": "f7824c5a",
   "metadata": {
    "execution": {
     "iopub.execute_input": "2024-10-27T01:36:45.604031Z",
     "iopub.status.busy": "2024-10-27T01:36:45.603232Z",
     "iopub.status.idle": "2024-10-27T01:36:45.607825Z",
     "shell.execute_reply": "2024-10-27T01:36:45.606950Z"
    },
    "papermill": {
     "duration": 0.028581,
     "end_time": "2024-10-27T01:36:45.609841",
     "exception": false,
     "start_time": "2024-10-27T01:36:45.581260",
     "status": "completed"
    },
    "tags": []
   },
   "outputs": [],
   "source": [
    "# Lets prepare dataset\n",
    "df_no_bmi = df_no['BMI']\n",
    "df_yes_bmi = df_yes['BMI']\n"
   ]
  },
  {
   "cell_type": "code",
   "execution_count": 19,
   "id": "f17bff67",
   "metadata": {
    "execution": {
     "iopub.execute_input": "2024-10-27T01:36:45.652546Z",
     "iopub.status.busy": "2024-10-27T01:36:45.652227Z",
     "iopub.status.idle": "2024-10-27T01:36:45.658187Z",
     "shell.execute_reply": "2024-10-27T01:36:45.657324Z"
    },
    "papermill": {
     "duration": 0.029645,
     "end_time": "2024-10-27T01:36:45.660198",
     "exception": false,
     "start_time": "2024-10-27T01:36:45.630553",
     "status": "completed"
    },
    "tags": []
   },
   "outputs": [
    {
     "name": "stdout",
     "output_type": "stream",
     "text": [
      "Average BMI for diabetics is 31.94401063769592 and no-diabetes is 27.80577005871738 \n"
     ]
    }
   ],
   "source": [
    "# Check the average BMI\n",
    "print('Average BMI for diabetics is {} and no-diabetes is {} '.format(df_yes_bmi.mean(),df_no_bmi.mean()))"
   ]
  },
  {
   "cell_type": "code",
   "execution_count": 20,
   "id": "c82e7536",
   "metadata": {
    "execution": {
     "iopub.execute_input": "2024-10-27T01:36:45.704198Z",
     "iopub.status.busy": "2024-10-27T01:36:45.703907Z",
     "iopub.status.idle": "2024-10-27T01:36:47.200722Z",
     "shell.execute_reply": "2024-10-27T01:36:47.199780Z"
    },
    "papermill": {
     "duration": 1.520939,
     "end_time": "2024-10-27T01:36:47.202709",
     "exception": false,
     "start_time": "2024-10-27T01:36:45.681770",
     "status": "completed"
    },
    "tags": []
   },
   "outputs": [
    {
     "data": {
      "text/plain": [
       "<matplotlib.legend.Legend at 0x148490f88f0>"
      ]
     },
     "execution_count": 20,
     "metadata": {},
     "output_type": "execute_result"
    },
    {
     "data": {
      "image/png": "[encoded data removed]",
      "text/plain": [
       "<Figure size 640x480 with 1 Axes>"
      ]
     },
     "metadata": {},
     "output_type": "display_data"
    }
   ],
   "source": [
    "# Check visually how BMI distribution looks like\n",
    "sns.kdeplot(df_yes_bmi,color='red')\n",
    "sns.kdeplot(df_no_bmi,color='green')\n",
    "plt.grid()\n",
    "plt.title('BMI distribution')\n",
    "plt.legend(['Diabetics', 'No-diabetes'])"
   ]
  },
  {
   "cell_type": "code",
   "execution_count": 21,
   "id": "c3a79d7e",
   "metadata": {
    "execution": {
     "iopub.execute_input": "2024-10-27T01:36:47.248195Z",
     "iopub.status.busy": "2024-10-27T01:36:47.247874Z",
     "iopub.status.idle": "2024-10-27T01:36:47.257988Z",
     "shell.execute_reply": "2024-10-27T01:36:47.257061Z"
    },
    "papermill": {
     "duration": 0.034872,
     "end_time": "2024-10-27T01:36:47.259994",
     "exception": false,
     "start_time": "2024-10-27T01:36:47.225122",
     "status": "completed"
    },
    "tags": []
   },
   "outputs": [
    {
     "name": "stdout",
     "output_type": "stream",
     "text": [
      "Reject Null Hypothesis\n"
     ]
    }
   ],
   "source": [
    "# Now use the ttest since we compare the means of two independent groups\n",
    "ttest,p_value_1  = stats.ttest_ind(df_yes_bmi, df_no_bmi)\n",
    "if p_value_1 < 0.05:   \n",
    "    print('Reject Null Hypothesis')\n",
    "else:\n",
    "    print('Failed to reject Null Hypothesis')"
   ]
  },
  {
   "cell_type": "markdown",
   "id": "ca2fd1c6",
   "metadata": {
    "papermill": {
     "duration": 0.022007,
     "end_time": "2024-10-27T01:36:47.304681",
     "exception": false,
     "start_time": "2024-10-27T01:36:47.282674",
     "status": "completed"
    },
    "tags": []
   },
   "source": [
    "So, we reject null hypothesis that no-diabetes and diabetics have the same average BMI."
   ]
  },
  {
   "cell_type": "markdown",
   "id": "6ff20ee2",
   "metadata": {
    "papermill": {
     "duration": 0.021662,
     "end_time": "2024-10-27T01:36:47.348648",
     "exception": false,
     "start_time": "2024-10-27T01:36:47.326986",
     "status": "completed"
    },
    "tags": []
   },
   "source": [
    "# 2. Do no-diabetes and diabetics have the same number of poor physical health days per month?\n",
    "* H0 - No-diabetes and diabetics have the same average number of poor physical health days per month.\n",
    "* Ha - No-diabetes and diabetics have the different average number of poor physical health days per month"
   ]
  },
  {
   "cell_type": "code",
   "execution_count": 22,
   "id": "e196f6b7",
   "metadata": {
    "execution": {
     "iopub.execute_input": "2024-10-27T01:36:47.393576Z",
     "iopub.status.busy": "2024-10-27T01:36:47.392976Z",
     "iopub.status.idle": "2024-10-27T01:36:47.397599Z",
     "shell.execute_reply": "2024-10-27T01:36:47.396749Z"
    },
    "papermill": {
     "duration": 0.029223,
     "end_time": "2024-10-27T01:36:47.399428",
     "exception": false,
     "start_time": "2024-10-27T01:36:47.370205",
     "status": "completed"
    },
    "tags": []
   },
   "outputs": [],
   "source": [
    "# Prepare datasets\n",
    "df_no_ph = df_no['PhysHlth']\n",
    "df_yes_ph = df_yes['PhysHlth']"
   ]
  },
  {
   "cell_type": "code",
   "execution_count": 23,
   "id": "eaa032fe",
   "metadata": {
    "execution": {
     "iopub.execute_input": "2024-10-27T01:36:47.444690Z",
     "iopub.status.busy": "2024-10-27T01:36:47.444364Z",
     "iopub.status.idle": "2024-10-27T01:36:48.947197Z",
     "shell.execute_reply": "2024-10-27T01:36:48.946263Z"
    },
    "papermill": {
     "duration": 1.528124,
     "end_time": "2024-10-27T01:36:48.949193",
     "exception": false,
     "start_time": "2024-10-27T01:36:47.421069",
     "status": "completed"
    },
    "tags": []
   },
   "outputs": [
    {
     "data": {
      "text/plain": [
       "<matplotlib.legend.Legend at 0x1485bd0a720>"
      ]
     },
     "execution_count": 23,
     "metadata": {},
     "output_type": "execute_result"
    },
    {
     "data": {
      "image/png": "[encoded data removed]",
      "text/plain": [
       "<Figure size 640x480 with 1 Axes>"
      ]
     },
     "metadata": {},
     "output_type": "display_data"
    }
   ],
   "source": [
    "# Check the distribution of average number of poor physical health days per month\n",
    "sns.kdeplot(df_yes_ph,color='red')\n",
    "sns.kdeplot(df_no_ph,color='green')\n",
    "plt.grid()\n",
    "plt.title('Distribution of average number of poor physical health days per month')\n",
    "plt.legend(['Diabetes', 'No-diabetes'])"
   ]
  },
  {
   "cell_type": "code",
   "execution_count": 24,
   "id": "29cdee89",
   "metadata": {
    "execution": {
     "iopub.execute_input": "2024-10-27T01:36:48.996100Z",
     "iopub.status.busy": "2024-10-27T01:36:48.995779Z",
     "iopub.status.idle": "2024-10-27T01:36:49.002067Z",
     "shell.execute_reply": "2024-10-27T01:36:49.001121Z"
    },
    "papermill": {
     "duration": 0.031781,
     "end_time": "2024-10-27T01:36:49.003974",
     "exception": false,
     "start_time": "2024-10-27T01:36:48.972193",
     "status": "completed"
    },
    "tags": []
   },
   "outputs": [
    {
     "name": "stdout",
     "output_type": "stream",
     "text": [
      "Average days of poor physical health for diabetics is 7.954478583149437 and no-diabetics is 3.6410820119633223 \n"
     ]
    }
   ],
   "source": [
    "# Count average days\n",
    "print('Average days of poor physical health for diabetics is {} and no-diabetics is {} '.format(df_yes_ph.mean(),df_no_ph.mean()))"
   ]
  },
  {
   "cell_type": "code",
   "execution_count": 25,
   "id": "a60f2b19",
   "metadata": {
    "execution": {
     "iopub.execute_input": "2024-10-27T01:36:49.050636Z",
     "iopub.status.busy": "2024-10-27T01:36:49.050115Z",
     "iopub.status.idle": "2024-10-27T01:36:49.060013Z",
     "shell.execute_reply": "2024-10-27T01:36:49.058893Z"
    },
    "papermill": {
     "duration": 0.035434,
     "end_time": "2024-10-27T01:36:49.061894",
     "exception": false,
     "start_time": "2024-10-27T01:36:49.026460",
     "status": "completed"
    },
    "tags": []
   },
   "outputs": [
    {
     "name": "stdout",
     "output_type": "stream",
     "text": [
      "Reject Null Hypothesis\n"
     ]
    }
   ],
   "source": [
    "# Use t-test to compare the means of two independent groups\n",
    "ttest,p_value_2  = stats.ttest_ind(df_yes_ph, df_no_ph)\n",
    "if p_value_2 < 0.05:   \n",
    "    print('Reject Null Hypothesis')\n",
    "else:\n",
    "    print('Failed to reject Null Hypothesis')"
   ]
  },
  {
   "cell_type": "markdown",
   "id": "705a5a0f",
   "metadata": {
    "execution": {
     "iopub.execute_input": "2023-04-17T07:00:38.656420Z",
     "iopub.status.busy": "2023-04-17T07:00:38.655989Z",
     "iopub.status.idle": "2023-04-17T07:00:38.665473Z",
     "shell.execute_reply": "2023-04-17T07:00:38.663587Z",
     "shell.execute_reply.started": "2023-04-17T07:00:38.656386Z"
    },
    "papermill": {
     "duration": 0.022344,
     "end_time": "2024-10-27T01:36:49.106764",
     "exception": false,
     "start_time": "2024-10-27T01:36:49.084420",
     "status": "completed"
    },
    "tags": []
   },
   "source": [
    "We reject the null hypothesis that no-diabetes and diabetics have the same average number of poor physical health days per month."
   ]
  },
  {
   "cell_type": "markdown",
   "id": "0542d49b",
   "metadata": {
    "papermill": {
     "duration": 0.022495,
     "end_time": "2024-10-27T01:36:49.153292",
     "exception": false,
     "start_time": "2024-10-27T01:36:49.130797",
     "status": "completed"
    },
    "tags": []
   },
   "source": [
    "# 3. Is the proportion of high cholesterol significantly different across diabetics and no-diabetes?\n",
    "* H0 - High cholesterol proportion is not significantly different across diabetics and no-diabetes.\n",
    "* Ha - High cholesterol proportion is different across diabetics and no-diabetes."
   ]
  },
  {
   "cell_type": "code",
   "execution_count": 26,
   "id": "3d3afad5",
   "metadata": {
    "execution": {
     "iopub.execute_input": "2024-10-27T01:36:49.200055Z",
     "iopub.status.busy": "2024-10-27T01:36:49.199740Z",
     "iopub.status.idle": "2024-10-27T01:36:49.239904Z",
     "shell.execute_reply": "2024-10-27T01:36:49.238840Z"
    },
    "papermill": {
     "duration": 0.06584,
     "end_time": "2024-10-27T01:36:49.241848",
     "exception": false,
     "start_time": "2024-10-27T01:36:49.176008",
     "status": "completed"
    },
    "tags": []
   },
   "outputs": [
    {
     "data": {
      "text/html": [
       "<div>\n",
       "<style scoped>\n",
       "    .dataframe tbody tr th:only-of-type {\n",
       "        vertical-align: middle;\n",
       "    }\n",
       "\n",
       "    .dataframe tbody tr th {\n",
       "        vertical-align: top;\n",
       "    }\n",
       "\n",
       "    .dataframe thead th {\n",
       "        text-align: right;\n",
       "    }\n",
       "</style>\n",
       "<table border=\"1\" class=\"dataframe\">\n",
       "  <thead>\n",
       "    <tr style=\"text-align: right;\">\n",
       "      <th>HighChol</th>\n",
       "      <th>0.0</th>\n",
       "      <th>1.0</th>\n",
       "    </tr>\n",
       "    <tr>\n",
       "      <th>Diabetes_binary</th>\n",
       "      <th></th>\n",
       "      <th></th>\n",
       "    </tr>\n",
       "  </thead>\n",
       "  <tbody>\n",
       "    <tr>\n",
       "      <th>0.0</th>\n",
       "      <td>134429</td>\n",
       "      <td>83905</td>\n",
       "    </tr>\n",
       "    <tr>\n",
       "      <th>1.0</th>\n",
       "      <td>11660</td>\n",
       "      <td>23686</td>\n",
       "    </tr>\n",
       "  </tbody>\n",
       "</table>\n",
       "</div>"
      ],
      "text/plain": [
       "HighChol            0.0    1.0\n",
       "Diabetes_binary               \n",
       "0.0              134429  83905\n",
       "1.0               11660  23686"
      ]
     },
     "execution_count": 26,
     "metadata": {},
     "output_type": "execute_result"
    }
   ],
   "source": [
    "# Prepare data\n",
    "contingency= pd.crosstab(df.Diabetes_binary, df.HighChol)\n",
    "contingency"
   ]
  },
  {
   "cell_type": "code",
   "execution_count": 27,
   "id": "25cbd107",
   "metadata": {
    "execution": {
     "iopub.execute_input": "2024-10-27T01:36:49.289866Z",
     "iopub.status.busy": "2024-10-27T01:36:49.289036Z",
     "iopub.status.idle": "2024-10-27T01:36:49.546340Z",
     "shell.execute_reply": "2024-10-27T01:36:49.545437Z"
    },
    "papermill": {
     "duration": 0.283557,
     "end_time": "2024-10-27T01:36:49.548435",
     "exception": false,
     "start_time": "2024-10-27T01:36:49.264878",
     "status": "completed"
    },
    "tags": []
   },
   "outputs": [
    {
     "data": {
      "text/plain": [
       "Text(0.5, 1.0, 'High cholesterol proportion across diabetics and no-diabetes')"
      ]
     },
     "execution_count": 27,
     "metadata": {},
     "output_type": "execute_result"
    },
    {
     "data": {
      "image/png": "[encoded data removed]",
      "text/plain": [
       "<Figure size 640x480 with 1 Axes>"
      ]
     },
     "metadata": {},
     "output_type": "display_data"
    }
   ],
   "source": [
    "# Visualize high cholesterol proportions\n",
    "ax = contingency.plot(kind='bar')\n",
    "ax.set(xlabel=None)\n",
    "ax.set_xticklabels(['No-diabetes', 'Diabetics'], rotation=20)\n",
    "ax.legend(['No High Cholesterol', 'High Cholesterol'])\n",
    "plt.title('High cholesterol proportion across diabetics and no-diabetes')"
   ]
  },
  {
   "cell_type": "code",
   "execution_count": 28,
   "id": "69bafde9",
   "metadata": {
    "execution": {
     "iopub.execute_input": "2024-10-27T01:36:49.597673Z",
     "iopub.status.busy": "2024-10-27T01:36:49.597076Z",
     "iopub.status.idle": "2024-10-27T01:36:49.605019Z",
     "shell.execute_reply": "2024-10-27T01:36:49.604062Z"
    },
    "papermill": {
     "duration": 0.034435,
     "end_time": "2024-10-27T01:36:49.606956",
     "exception": false,
     "start_time": "2024-10-27T01:36:49.572521",
     "status": "completed"
    },
    "tags": []
   },
   "outputs": [
    {
     "name": "stdout",
     "output_type": "stream",
     "text": [
      "Reject Null Hypothesis\n"
     ]
    }
   ],
   "source": [
    "# Since we are trying to determine whether there is a significant association \n",
    "# between two categorical variables,we will use chi2 test\n",
    "chi2, p_value_3, dof, exp_freq = chi2_contingency(contingency)\n",
    "if (p_value_3 < 0.05):\n",
    "    print('Reject Null Hypothesis')\n",
    "else:\n",
    "    print('Failed to reject Null Hypothesis')\n"
   ]
  },
  {
   "cell_type": "markdown",
   "id": "7b9880d3",
   "metadata": {
    "papermill": {
     "duration": 0.023214,
     "end_time": "2024-10-27T01:36:49.653439",
     "exception": false,
     "start_time": "2024-10-27T01:36:49.630225",
     "status": "completed"
    },
    "tags": []
   },
   "source": [
    "We reject the null hypothesis that high cholesterol proportion is not significantly different across diabetics and no-diabetes."
   ]
  },
  {
   "cell_type": "markdown",
   "id": "79bb086a",
   "metadata": {
    "papermill": {
     "duration": 0.023292,
     "end_time": "2024-10-27T01:36:49.700115",
     "exception": false,
     "start_time": "2024-10-27T01:36:49.676823",
     "status": "completed"
    },
    "tags": []
   },
   "source": [
    "# 4. Is the proportion of high blood pressure significantly different across diabetics and no-diabetes?\n",
    "* H0 - High blood pressure proportion is not significantly different across diabetics and no-diabetes.\n",
    "* Ha - High blood pressure proportion is different across diabetics and no-diabetes."
   ]
  },
  {
   "cell_type": "code",
   "execution_count": 29,
   "id": "2d7144a5",
   "metadata": {
    "execution": {
     "iopub.execute_input": "2024-10-27T01:36:49.748012Z",
     "iopub.status.busy": "2024-10-27T01:36:49.747706Z",
     "iopub.status.idle": "2024-10-27T01:36:49.789199Z",
     "shell.execute_reply": "2024-10-27T01:36:49.788270Z"
    },
    "papermill": {
     "duration": 0.068027,
     "end_time": "2024-10-27T01:36:49.791457",
     "exception": false,
     "start_time": "2024-10-27T01:36:49.723430",
     "status": "completed"
    },
    "tags": []
   },
   "outputs": [
    {
     "data": {
      "text/html": [
       "<div>\n",
       "<style scoped>\n",
       "    .dataframe tbody tr th:only-of-type {\n",
       "        vertical-align: middle;\n",
       "    }\n",
       "\n",
       "    .dataframe tbody tr th {\n",
       "        vertical-align: top;\n",
       "    }\n",
       "\n",
       "    .dataframe thead th {\n",
       "        text-align: right;\n",
       "    }\n",
       "</style>\n",
       "<table border=\"1\" class=\"dataframe\">\n",
       "  <thead>\n",
       "    <tr style=\"text-align: right;\">\n",
       "      <th>HighBP</th>\n",
       "      <th>0.0</th>\n",
       "      <th>1.0</th>\n",
       "    </tr>\n",
       "    <tr>\n",
       "      <th>Diabetes_binary</th>\n",
       "      <th></th>\n",
       "      <th></th>\n",
       "    </tr>\n",
       "  </thead>\n",
       "  <tbody>\n",
       "    <tr>\n",
       "      <th>0.0</th>\n",
       "      <td>136109</td>\n",
       "      <td>82225</td>\n",
       "    </tr>\n",
       "    <tr>\n",
       "      <th>1.0</th>\n",
       "      <td>8742</td>\n",
       "      <td>26604</td>\n",
       "    </tr>\n",
       "  </tbody>\n",
       "</table>\n",
       "</div>"
      ],
      "text/plain": [
       "HighBP              0.0    1.0\n",
       "Diabetes_binary               \n",
       "0.0              136109  82225\n",
       "1.0                8742  26604"
      ]
     },
     "execution_count": 29,
     "metadata": {},
     "output_type": "execute_result"
    }
   ],
   "source": [
    "# Prepare data\n",
    "contingency2= pd.crosstab(df.Diabetes_binary, df.HighBP)\n",
    "contingency2"
   ]
  },
  {
   "cell_type": "code",
   "execution_count": 30,
   "id": "f133a827",
   "metadata": {
    "execution": {
     "iopub.execute_input": "2024-10-27T01:36:49.841233Z",
     "iopub.status.busy": "2024-10-27T01:36:49.840506Z",
     "iopub.status.idle": "2024-10-27T01:36:50.084471Z",
     "shell.execute_reply": "2024-10-27T01:36:50.083588Z"
    },
    "papermill": {
     "duration": 0.270667,
     "end_time": "2024-10-27T01:36:50.086465",
     "exception": false,
     "start_time": "2024-10-27T01:36:49.815798",
     "status": "completed"
    },
    "tags": []
   },
   "outputs": [
    {
     "data": {
      "text/plain": [
       "Text(0.5, 1.0, 'High blood pressure proportion across diabetics and no-diabetes')"
      ]
     },
     "execution_count": 30,
     "metadata": {},
     "output_type": "execute_result"
    },
    {
     "data": {
      "image/png": "[encoded data removed]",
      "text/plain": [
       "<Figure size 640x480 with 1 Axes>"
      ]
     },
     "metadata": {},
     "output_type": "display_data"
    }
   ],
   "source": [
    "# Visualize proportion of high blood pressure for people with and without diabetes\n",
    "ax = contingency2.plot(kind='bar')\n",
    "ax.set(xlabel=None)\n",
    "ax.set_xticklabels(['No-diabetes', 'Diabetics'], rotation=20)\n",
    "ax.legend( ['No High BP', 'High BP'])\n",
    "plt.title('High blood pressure proportion across diabetics and no-diabetes')"
   ]
  },
  {
   "cell_type": "code",
   "execution_count": 31,
   "id": "5b325811",
   "metadata": {
    "execution": {
     "iopub.execute_input": "2024-10-27T01:36:50.139160Z",
     "iopub.status.busy": "2024-10-27T01:36:50.138838Z",
     "iopub.status.idle": "2024-10-27T01:36:50.144966Z",
     "shell.execute_reply": "2024-10-27T01:36:50.144143Z"
    },
    "papermill": {
     "duration": 0.035096,
     "end_time": "2024-10-27T01:36:50.147029",
     "exception": false,
     "start_time": "2024-10-27T01:36:50.111933",
     "status": "completed"
    },
    "tags": []
   },
   "outputs": [
    {
     "name": "stdout",
     "output_type": "stream",
     "text": [
      "Reject Null Hypothesis\n"
     ]
    }
   ],
   "source": [
    "# Chi2 test for testing relationships between two categorical variables\n",
    "chi2, p_value_4, dof, exp_freq = chi2_contingency(contingency2)\n",
    "if (p_value_4 < 0.05):\n",
    "    print('Reject Null Hypothesis')\n",
    "else:\n",
    "    print('Failed to reject Null Hypothesis')"
   ]
  },
  {
   "cell_type": "markdown",
   "id": "74002625",
   "metadata": {
    "papermill": {
     "duration": 0.024459,
     "end_time": "2024-10-27T01:36:50.196290",
     "exception": false,
     "start_time": "2024-10-27T01:36:50.171831",
     "status": "completed"
    },
    "tags": []
   },
   "source": [
    "We reject the null hypothesis that high blood pressure proportion is not significantly different across diabetics and no-diabetes."
   ]
  },
  {
   "cell_type": "code",
   "execution_count": 32,
   "id": "77ae26bc",
   "metadata": {
    "execution": {
     "iopub.execute_input": "2024-10-27T01:36:50.296153Z",
     "iopub.status.busy": "2024-10-27T01:36:50.295835Z",
     "iopub.status.idle": "2024-10-27T01:36:50.949049Z",
     "shell.execute_reply": "2024-10-27T01:36:50.948267Z"
    },
    "papermill": {
     "duration": 0.681379,
     "end_time": "2024-10-27T01:36:50.951412",
     "exception": false,
     "start_time": "2024-10-27T01:36:50.270033",
     "status": "completed"
    },
    "tags": []
   },
   "outputs": [],
   "source": [
    "from sklearn.model_selection import train_test_split, GridSearchCV\n",
    "from sklearn.feature_selection import SelectKBest, chi2\n",
    "from imblearn.under_sampling import NearMiss\n",
    "from sklearn.preprocessing import StandardScaler\n",
    "from sklearn.metrics import accuracy_score, classification_report\n",
    "from sklearn.tree import DecisionTreeClassifier\n",
    "from sklearn.ensemble import RandomForestClassifier\n",
    "from sklearn.linear_model import LogisticRegression\n",
    "from xgboost import XGBClassifier\n",
    "from sklearn.svm import SVC\n",
    "from sklearn.neural_network import MLPClassifier\n",
    "from sklearn.neighbors import KNeighborsClassifier"
   ]
  },
  {
   "cell_type": "markdown",
   "id": "bc5794d4",
   "metadata": {
    "papermill": {
     "duration": 0.02464,
     "end_time": "2024-10-27T01:36:51.001606",
     "exception": false,
     "start_time": "2024-10-27T01:36:50.976966",
     "status": "completed"
    },
    "tags": []
   },
   "source": [
    "### Feature Selection"
   ]
  },
  {
   "cell_type": "code",
   "execution_count": 33,
   "id": "6c91e28f",
   "metadata": {
    "execution": {
     "iopub.execute_input": "2024-10-27T01:36:51.053465Z",
     "iopub.status.busy": "2024-10-27T01:36:51.052892Z",
     "iopub.status.idle": "2024-10-27T01:36:51.173478Z",
     "shell.execute_reply": "2024-10-27T01:36:51.172556Z"
    },
    "papermill": {
     "duration": 0.148896,
     "end_time": "2024-10-27T01:36:51.175524",
     "exception": false,
     "start_time": "2024-10-27T01:36:51.026628",
     "status": "completed"
    },
    "tags": []
   },
   "outputs": [
    {
     "name": "stdout",
     "output_type": "stream",
     "text": [
      "['HighBP', 'HighChol', 'BMI', 'Stroke', 'HeartDiseaseorAttack', 'PhysActivity', 'GenHlth', 'MentHlth', 'PhysHlth', 'DiffWalk', 'Age', 'Income']\n"
     ]
    }
   ],
   "source": [
    "# Define features and target\n",
    "X = df.drop('Diabetes_binary', axis=1) \n",
    "y = df['Diabetes_binary']\n",
    "\n",
    "# Feature selection using SelectKBest with Chi-Square\n",
    "selector = SelectKBest(score_func=chi2, k=12)\n",
    "X_new = selector.fit_transform(X, y)\n",
    "\n",
    "# Get the selected feature indices\n",
    "selected_columns = selector.get_support(indices=True)\n",
    "important_features = X.columns[selected_columns].tolist()\n",
    "\n",
    "# Display the selected features\n",
    "print(important_features)"
   ]
  },
  {
   "cell_type": "code",
   "execution_count": 34,
   "id": "caa0356d",
   "metadata": {
    "execution": {
     "iopub.execute_input": "2024-10-27T01:36:51.228177Z",
     "iopub.status.busy": "2024-10-27T01:36:51.227839Z",
     "iopub.status.idle": "2024-10-27T01:36:51.232417Z",
     "shell.execute_reply": "2024-10-27T01:36:51.231586Z"
    },
    "papermill": {
     "duration": 0.033181,
     "end_time": "2024-10-27T01:36:51.234462",
     "exception": false,
     "start_time": "2024-10-27T01:36:51.201281",
     "status": "completed"
    },
    "tags": []
   },
   "outputs": [],
   "source": [
    "# Create a DataFrame for the selected features\n",
    "X_selected = pd.DataFrame(X_new, columns=important_features)"
   ]
  },
  {
   "cell_type": "markdown",
   "id": "cdf12a3a",
   "metadata": {
    "papermill": {
     "duration": 0.025093,
     "end_time": "2024-10-27T01:36:51.284310",
     "exception": false,
     "start_time": "2024-10-27T01:36:51.259217",
     "status": "completed"
    },
    "tags": []
   },
   "source": [
    "### Handling class imbalance"
   ]
  },
  {
   "cell_type": "code",
   "execution_count": 35,
   "id": "6f28fa4d",
   "metadata": {
    "execution": {
     "iopub.execute_input": "2024-10-27T01:36:51.336570Z",
     "iopub.status.busy": "2024-10-27T01:36:51.336225Z",
     "iopub.status.idle": "2024-10-27T01:37:02.395062Z",
     "shell.execute_reply": "2024-10-27T01:37:02.394273Z"
    },
    "papermill": {
     "duration": 11.087854,
     "end_time": "2024-10-27T01:37:02.397295",
     "exception": false,
     "start_time": "2024-10-27T01:36:51.309441",
     "status": "completed"
    },
    "tags": []
   },
   "outputs": [],
   "source": [
    "# Handling class imbalance using NearMiss to undersample the majority class\n",
    "nm = NearMiss(version = 1 , n_neighbors = 10)\n",
    "X_sm,y_sm= nm.fit_resample(X_selected,y)\n",
    "\n",
    "# Splitting the data into training and testing sets\n",
    "X_train, X_test, y_train, y_test = train_test_split(X_sm, y_sm, test_size=0.2, random_state=42)"
   ]
  },
  {
   "cell_type": "markdown",
   "id": "23208110",
   "metadata": {
    "papermill": {
     "duration": 0.025016,
     "end_time": "2024-10-27T01:37:02.448597",
     "exception": false,
     "start_time": "2024-10-27T01:37:02.423581",
     "status": "completed"
    },
    "tags": []
   },
   "source": [
    "### Scaling"
   ]
  },
  {
   "cell_type": "code",
   "execution_count": 36,
   "id": "82ac6b55",
   "metadata": {
    "execution": {
     "iopub.execute_input": "2024-10-27T01:37:02.500975Z",
     "iopub.status.busy": "2024-10-27T01:37:02.500120Z",
     "iopub.status.idle": "2024-10-27T01:37:02.517343Z",
     "shell.execute_reply": "2024-10-27T01:37:02.516583Z"
    },
    "papermill": {
     "duration": 0.045955,
     "end_time": "2024-10-27T01:37:02.519467",
     "exception": false,
     "start_time": "2024-10-27T01:37:02.473512",
     "status": "completed"
    },
    "tags": []
   },
   "outputs": [],
   "source": [
    "# Standardizing the features (important for models sensitive to feature scaling)\n",
    "scaler = StandardScaler()\n",
    "X_train_scaled = scaler.fit_transform(X_train)\n",
    "X_test_scaled = scaler.transform(X_test)"
   ]
  },
  {
   "cell_type": "markdown",
   "id": "8737b100",
   "metadata": {
    "papermill": {
     "duration": 0.025529,
     "end_time": "2024-10-27T01:37:02.571372",
     "exception": false,
     "start_time": "2024-10-27T01:37:02.545843",
     "status": "completed"
    },
    "tags": []
   },
   "source": [
    "### Modeling"
   ]
  },
  {
   "cell_type": "code",
   "execution_count": 37,
   "id": "392debd8",
   "metadata": {
    "execution": {
     "iopub.execute_input": "2024-10-27T01:37:02.624216Z",
     "iopub.status.busy": "2024-10-27T01:37:02.623865Z",
     "iopub.status.idle": "2024-10-27T01:37:02.875675Z",
     "shell.execute_reply": "2024-10-27T01:37:02.874475Z"
    },
    "papermill": {
     "duration": 0.2825,
     "end_time": "2024-10-27T01:37:02.879448",
     "exception": false,
     "start_time": "2024-10-27T01:37:02.596948",
     "status": "completed"
    },
    "tags": []
   },
   "outputs": [
    {
     "name": "stdout",
     "output_type": "stream",
     "text": [
      "Accuracy of Logistic Regression Model: 0.874\n",
      "Classification Report:\n",
      "              precision    recall  f1-score   support\n",
      "\n",
      "         0.0       0.83      0.93      0.88      7090\n",
      "         1.0       0.93      0.81      0.87      7049\n",
      "\n",
      "    accuracy                           0.87     14139\n",
      "   macro avg       0.88      0.87      0.87     14139\n",
      "weighted avg       0.88      0.87      0.87     14139\n",
      "\n"
     ]
    }
   ],
   "source": [
    "# Lets start with Logistic Regression\n",
    "# Creating and training the logistic regression model\n",
    "logistic_model = LogisticRegression(random_state=42, max_iter=200)\n",
    "\n",
    "# Train model using scaled data\n",
    "logistic_model.fit(X_train_scaled, y_train)\n",
    "\n",
    "# Making predictions on the test set\n",
    "y_pred_logistic = logistic_model.predict(X_test_scaled)\n",
    "\n",
    "# Evaluating the model\n",
    "accuracy_logistic = accuracy_score(y_test, y_pred_logistic)\n",
    "class_report_logistic = classification_report(y_test, y_pred_logistic)\n",
    "\n",
    "# Output the evaluation results\n",
    "print(f\"Accuracy of Logistic Regression Model: {accuracy_logistic:.3f}\")\n",
    "print(\"Classification Report:\")\n",
    "print(class_report_logistic)"
   ]
  },
  {
   "cell_type": "code",
   "execution_count": 38,
   "id": "638f2bb7",
   "metadata": {
    "execution": {
     "iopub.execute_input": "2024-10-27T01:37:02.983143Z",
     "iopub.status.busy": "2024-10-27T01:37:02.982614Z",
     "iopub.status.idle": "2024-10-27T01:37:06.329973Z",
     "shell.execute_reply": "2024-10-27T01:37:06.329047Z"
    },
    "papermill": {
     "duration": 3.398884,
     "end_time": "2024-10-27T01:37:06.332141",
     "exception": false,
     "start_time": "2024-10-27T01:37:02.933257",
     "status": "completed"
    },
    "tags": []
   },
   "outputs": [
    {
     "name": "stdout",
     "output_type": "stream",
     "text": [
      "KNN Accuracy: 0.866\n",
      "Classification Report:\n",
      "              precision    recall  f1-score   support\n",
      "\n",
      "         0.0       0.82      0.94      0.88      7090\n",
      "         1.0       0.93      0.79      0.86      7049\n",
      "\n",
      "    accuracy                           0.87     14139\n",
      "   macro avg       0.87      0.87      0.87     14139\n",
      "weighted avg       0.87      0.87      0.87     14139\n",
      "\n"
     ]
    }
   ],
   "source": [
    "# K-Neighbors\n",
    "# Initialize the KNN classifier with a specified number of neighbors (k)\n",
    "knn_model = KNeighborsClassifier(n_neighbors=5)\n",
    "\n",
    "# Train the model on scaled data to improve performance\n",
    "knn_model.fit(X_train_scaled, y_train)\n",
    "\n",
    "# Make predictions on the test set\n",
    "y_pred_knn = knn_model.predict(X_test_scaled)\n",
    "\n",
    "# Evaluate the model\n",
    "accuracy_knn = accuracy_score(y_test, y_pred_knn)\n",
    "class_report_knn = classification_report(y_test, y_pred_knn)\n",
    "\n",
    "# Output the evaluation results\n",
    "print(f\"KNN Accuracy: {accuracy_knn:.3f}\")\n",
    "print(\"Classification Report:\")\n",
    "print(class_report_knn)"
   ]
  },
  {
   "cell_type": "code",
   "execution_count": 39,
   "id": "7938658b",
   "metadata": {
    "execution": {
     "iopub.execute_input": "2024-10-27T01:37:06.384823Z",
     "iopub.status.busy": "2024-10-27T01:37:06.384465Z",
     "iopub.status.idle": "2024-10-27T01:37:06.511920Z",
     "shell.execute_reply": "2024-10-27T01:37:06.510707Z"
    },
    "papermill": {
     "duration": 0.156006,
     "end_time": "2024-10-27T01:37:06.513922",
     "exception": false,
     "start_time": "2024-10-27T01:37:06.357916",
     "status": "completed"
    },
    "tags": []
   },
   "outputs": [
    {
     "name": "stdout",
     "output_type": "stream",
     "text": [
      "Decision Tree Accuracy: 0.886\n",
      "Classification Report:\n",
      "              precision    recall  f1-score   support\n",
      "\n",
      "         0.0       0.83      0.97      0.90      7090\n",
      "         1.0       0.97      0.80      0.87      7049\n",
      "\n",
      "    accuracy                           0.89     14139\n",
      "   macro avg       0.90      0.89      0.89     14139\n",
      "weighted avg       0.90      0.89      0.89     14139\n",
      "\n"
     ]
    }
   ],
   "source": [
    "# Decision Tree\n",
    "# Initialize the Decision Tree classifier\n",
    "decision_tree_model = DecisionTreeClassifier(random_state=42, max_depth= 12)\n",
    "\n",
    "# Train the model\n",
    "decision_tree_model.fit(X_train, y_train)\n",
    "\n",
    "# Make predictions on the test set\n",
    "y_pred_tree = decision_tree_model.predict(X_test)\n",
    "\n",
    "# Evaluate the model\n",
    "accuracy_tree = accuracy_score(y_test, y_pred_tree)\n",
    "class_report_tree = classification_report(y_test, y_pred_tree)\n",
    "\n",
    "# Output the evaluation results\n",
    "print(f\"Decision Tree Accuracy: {accuracy_tree:.3f}\")\n",
    "print(\"Classification Report:\")\n",
    "print(class_report_tree)"
   ]
  },
  {
   "cell_type": "code",
   "execution_count": 40,
   "id": "8b749444",
   "metadata": {
    "execution": {
     "iopub.execute_input": "2024-10-27T01:37:06.566076Z",
     "iopub.status.busy": "2024-10-27T01:37:06.565767Z",
     "iopub.status.idle": "2024-10-27T01:37:09.264069Z",
     "shell.execute_reply": "2024-10-27T01:37:09.262949Z"
    },
    "papermill": {
     "duration": 2.726654,
     "end_time": "2024-10-27T01:37:09.266317",
     "exception": false,
     "start_time": "2024-10-27T01:37:06.539663",
     "status": "completed"
    },
    "tags": []
   },
   "outputs": [
    {
     "name": "stdout",
     "output_type": "stream",
     "text": [
      "Accuracy for Random Forest: 0.893\n",
      "Classification Report:\n",
      "              precision    recall  f1-score   support\n",
      "\n",
      "         0.0       0.84      0.97      0.90      7090\n",
      "         1.0       0.96      0.82      0.88      7049\n",
      "\n",
      "    accuracy                           0.89     14139\n",
      "   macro avg       0.90      0.89      0.89     14139\n",
      "weighted avg       0.90      0.89      0.89     14139\n",
      "\n"
     ]
    }
   ],
   "source": [
    "# Random Forest\n",
    "# Building the Random Forest model\n",
    "random_forest_model = RandomForestClassifier(n_estimators=100, max_depth=12, random_state=42)\n",
    "\n",
    "# Train the model \n",
    "random_forest_model.fit(X_train, y_train)\n",
    "\n",
    "# Making predictions on the test set\n",
    "y_pred_random_forest = random_forest_model.predict(X_test)\n",
    "\n",
    "# Evaluating the model\n",
    "accuracy_random_forest = accuracy_score(y_test, y_pred_random_forest)\n",
    "class_report_random_forest = classification_report(y_test, y_pred_random_forest)\n",
    "\n",
    "# Output the evaluation results\n",
    "print(f\"Accuracy for Random Forest: {accuracy_random_forest:.3f}\")\n",
    "print(\"Classification Report:\")\n",
    "print(class_report_random_forest)"
   ]
  },
  {
   "cell_type": "code",
   "execution_count": 41,
   "id": "dfda0caa",
   "metadata": {
    "execution": {
     "iopub.execute_input": "2024-10-27T01:37:09.320307Z",
     "iopub.status.busy": "2024-10-27T01:37:09.319431Z",
     "iopub.status.idle": "2024-10-27T01:37:59.757208Z",
     "shell.execute_reply": "2024-10-27T01:37:59.756185Z"
    },
    "papermill": {
     "duration": 50.493333,
     "end_time": "2024-10-27T01:37:59.785857",
     "exception": false,
     "start_time": "2024-10-27T01:37:09.292524",
     "status": "completed"
    },
    "tags": []
   },
   "outputs": [
    {
     "name": "stdout",
     "output_type": "stream",
     "text": [
      "Accuracy of SVM Model: 0.891\n",
      "Classification Report:\n",
      "              precision    recall  f1-score   support\n",
      "\n",
      "         0.0       0.84      0.97      0.90      7090\n",
      "         1.0       0.97      0.81      0.88      7049\n",
      "\n",
      "    accuracy                           0.89     14139\n",
      "   macro avg       0.90      0.89      0.89     14139\n",
      "weighted avg       0.90      0.89      0.89     14139\n",
      "\n"
     ]
    }
   ],
   "source": [
    "# Support Vector Machine\n",
    "# Building the SVM model\n",
    "svm_model = SVC(random_state=42, C=1.0)  \n",
    "\n",
    "# Train using scaled data\n",
    "svm_model.fit(X_train_scaled, y_train)\n",
    "\n",
    "# Making predictions on the test set\n",
    "y_pred_svm = svm_model.predict(X_test_scaled)\n",
    "\n",
    "# Evaluating the model\n",
    "accuracy_svm = accuracy_score(y_test, y_pred_svm)\n",
    "class_report_svm = classification_report(y_test, y_pred_svm)\n",
    "\n",
    "# Output the evaluation results\n",
    "print(f\"Accuracy of SVM Model: {accuracy_svm:.3f}\")\n",
    "print(\"Classification Report:\")\n",
    "print(class_report_svm)\n"
   ]
  },
  {
   "cell_type": "code",
   "execution_count": 42,
   "id": "dd1979b9",
   "metadata": {
    "execution": {
     "iopub.execute_input": "2024-10-27T01:37:59.837711Z",
     "iopub.status.busy": "2024-10-27T01:37:59.837364Z",
     "iopub.status.idle": "2024-10-27T01:39:29.528859Z",
     "shell.execute_reply": "2024-10-27T01:39:29.527650Z"
    },
    "papermill": {
     "duration": 89.775644,
     "end_time": "2024-10-27T01:39:29.586918",
     "exception": false,
     "start_time": "2024-10-27T01:37:59.811274",
     "status": "completed"
    },
    "tags": []
   },
   "outputs": [
    {
     "name": "stdout",
     "output_type": "stream",
     "text": [
      "MLP Accuracy: 0.898\n",
      "Classification Report:\n",
      "              precision    recall  f1-score   support\n",
      "\n",
      "         0.0       0.85      0.96      0.90      7090\n",
      "         1.0       0.95      0.84      0.89      7049\n",
      "\n",
      "    accuracy                           0.90     14139\n",
      "   macro avg       0.90      0.90      0.90     14139\n",
      "weighted avg       0.90      0.90      0.90     14139\n",
      "\n"
     ]
    }
   ],
   "source": [
    "# Multi-Layer Perceptron\n",
    "# Initialize the MLP classifier\n",
    "mlp_model = MLPClassifier(hidden_layer_sizes=(100, 50), max_iter=300, random_state=42)\n",
    "\n",
    "# Train the model using scaled data\n",
    "mlp_model.fit(X_train_scaled, y_train)\n",
    "\n",
    "# Make predictions on the test set\n",
    "y_pred_mlp = mlp_model.predict(X_test_scaled)\n",
    "\n",
    "# Evaluate the model\n",
    "accuracy_mlp = accuracy_score(y_test, y_pred_mlp)\n",
    "class_report_mlp = classification_report(y_test, y_pred_mlp)\n",
    "\n",
    "# Output the evaluation results\n",
    "print(f\"MLP Accuracy: {accuracy_mlp:.3f}\")\n",
    "print(\"Classification Report:\")\n",
    "print(class_report_mlp)"
   ]
  },
  {
   "cell_type": "code",
   "execution_count": 43,
   "id": "e941afac",
   "metadata": {
    "execution": {
     "iopub.execute_input": "2024-10-27T01:39:29.662131Z",
     "iopub.status.busy": "2024-10-27T01:39:29.661788Z",
     "iopub.status.idle": "2024-10-27T01:39:30.082738Z",
     "shell.execute_reply": "2024-10-27T01:39:30.081797Z"
    },
    "papermill": {
     "duration": 0.45001,
     "end_time": "2024-10-27T01:39:30.085138",
     "exception": false,
     "start_time": "2024-10-27T01:39:29.635128",
     "status": "completed"
    },
    "tags": []
   },
   "outputs": [
    {
     "name": "stderr",
     "output_type": "stream",
     "text": [
      "c:\\Users\\Keshavi\\AppData\\Local\\Programs\\Python\\Python312\\Lib\\site-packages\\xgboost\\training.py:183: UserWarning: [22:16:56] WARNING: C:\\actions-runner\\_work\\xgboost\\xgboost\\src\\learner.cc:738: \n",
      "Parameters: { \"use_label_encoder\" } are not used.\n",
      "\n",
      "  bst.update(dtrain, iteration=i, fobj=obj)\n"
     ]
    },
    {
     "name": "stdout",
     "output_type": "stream",
     "text": [
      "XGBoost Accuracy: 0.899\n",
      "Classification Report:\n",
      "              precision    recall  f1-score   support\n",
      "\n",
      "         0.0       0.85      0.96      0.91      7090\n",
      "         1.0       0.96      0.83      0.89      7049\n",
      "\n",
      "    accuracy                           0.90     14139\n",
      "   macro avg       0.91      0.90      0.90     14139\n",
      "weighted avg       0.91      0.90      0.90     14139\n",
      "\n"
     ]
    }
   ],
   "source": [
    "# Extreme Gradient Boosting\n",
    "# Initialize the XGBoost classifier\n",
    "xgb_model = XGBClassifier(random_state=42, use_label_encoder=False, eval_metric='logloss')\n",
    "\n",
    "# Train the model\n",
    "xgb_model.fit(X_train, y_train)\n",
    "\n",
    "# Make predictions on the test set\n",
    "y_pred_xgb = xgb_model.predict(X_test)\n",
    "\n",
    "# Evaluate the model\n",
    "accuracy_xgb = accuracy_score(y_test, y_pred_xgb)\n",
    "class_report_xgb = classification_report(y_test, y_pred_xgb)\n",
    "\n",
    "# Output the evaluation results\n",
    "print(f\"XGBoost Accuracy: {accuracy_xgb:.3f}\")\n",
    "print(\"Classification Report:\")\n",
    "print(class_report_xgb)"
   ]
  },
  {
   "cell_type": "code",
   "execution_count": 44,
   "id": "8f6935d8",
   "metadata": {
    "execution": {
     "iopub.execute_input": "2024-10-27T01:39:30.138497Z",
     "iopub.status.busy": "2024-10-27T01:39:30.138153Z",
     "iopub.status.idle": "2024-10-27T01:44:18.951130Z",
     "shell.execute_reply": "2024-10-27T01:44:18.949939Z"
    },
    "papermill": {
     "duration": 288.867709,
     "end_time": "2024-10-27T01:44:18.979302",
     "exception": false,
     "start_time": "2024-10-27T01:39:30.111593",
     "status": "completed"
    },
    "tags": []
   },
   "outputs": [
    {
     "name": "stderr",
     "output_type": "stream",
     "text": [
      "c:\\Users\\Keshavi\\AppData\\Local\\Programs\\Python\\Python312\\Lib\\site-packages\\xgboost\\training.py:183: UserWarning: [22:20:38] WARNING: C:\\actions-runner\\_work\\xgboost\\xgboost\\src\\learner.cc:738: \n",
      "Parameters: { \"use_label_encoder\" } are not used.\n",
      "\n",
      "  bst.update(dtrain, iteration=i, fobj=obj)\n"
     ]
    },
    {
     "name": "stdout",
     "output_type": "stream",
     "text": [
      "Best Parameters: {'gamma': 0.1, 'learning_rate': 0.2, 'max_depth': 6, 'min_child_weight': 1, 'n_estimators': 150}\n",
      "Accuracy with Best Parameters: 0.899\n",
      "Classification Report:\n",
      "              precision    recall  f1-score   support\n",
      "\n",
      "         0.0       0.85      0.96      0.91      7090\n",
      "         1.0       0.96      0.84      0.89      7049\n",
      "\n",
      "    accuracy                           0.90     14139\n",
      "   macro avg       0.91      0.90      0.90     14139\n",
      "weighted avg       0.91      0.90      0.90     14139\n",
      "\n"
     ]
    }
   ],
   "source": [
    "# Hyperparameter Tuning for XGBoost\n",
    "# Define the parameter grid to search \n",
    "param_grid = {\n",
    "    'n_estimators': [50, 100, 150],  \n",
    "    'learning_rate': [0.01, 0.1, 0.2, 0.3], \n",
    "    'max_depth': [3, 4, 5, 6, 7],  \n",
    "    'gamma': [0, 0.1, 0.2],  \n",
    "    'min_child_weight': [1, 2, 3]  \n",
    "}\n",
    "\n",
    "# Initialize GridSearchCV\n",
    "grid_search = GridSearchCV(\n",
    "    estimator=xgb_model,\n",
    "    param_grid=param_grid,\n",
    "    scoring='accuracy',\n",
    "    cv=3,\n",
    "    n_jobs=-1,\n",
    "    verbose=0\n",
    ")\n",
    "\n",
    "# Perform the grid search on the training data\n",
    "grid_search.fit(X_train, y_train)\n",
    "\n",
    "# Get the best parameters and the best estimator\n",
    "best_params = grid_search.best_params_\n",
    "best_model = grid_search.best_estimator_\n",
    "\n",
    "# Make predictions with the best model on the test set\n",
    "y_pred_best = best_model.predict(X_test)\n",
    "\n",
    "# Evaluate the model\n",
    "accuracy_best = accuracy_score(y_test, y_pred_best)\n",
    "class_report_best = classification_report(y_test, y_pred_best)\n",
    "\n",
    "# Output the evaluation results\n",
    "print(f\"Best Parameters: {best_params}\")\n",
    "print(f\"Accuracy with Best Parameters: {accuracy_best:.3f}\")\n",
    "print(\"Classification Report:\")\n",
    "print(class_report_best)"
   ]
  },
  {
   "cell_type": "code",
   "execution_count": 45,
   "id": "9528cdeb",
   "metadata": {
    "execution": {
     "iopub.execute_input": "2024-10-27T01:44:19.031740Z",
     "iopub.status.busy": "2024-10-27T01:44:19.031387Z",
     "iopub.status.idle": "2024-10-27T01:44:19.047034Z",
     "shell.execute_reply": "2024-10-27T01:44:19.046207Z"
    },
    "papermill": {
     "duration": 0.044195,
     "end_time": "2024-10-27T01:44:19.048889",
     "exception": false,
     "start_time": "2024-10-27T01:44:19.004694",
     "status": "completed"
    },
    "tags": []
   },
   "outputs": [
    {
     "data": {
      "text/html": [
       "<div>\n",
       "<style scoped>\n",
       "    .dataframe tbody tr th:only-of-type {\n",
       "        vertical-align: middle;\n",
       "    }\n",
       "\n",
       "    .dataframe tbody tr th {\n",
       "        vertical-align: top;\n",
       "    }\n",
       "\n",
       "    .dataframe thead th {\n",
       "        text-align: right;\n",
       "    }\n",
       "</style>\n",
       "<table border=\"1\" class=\"dataframe\">\n",
       "  <thead>\n",
       "    <tr style=\"text-align: right;\">\n",
       "      <th></th>\n",
       "      <th>Models</th>\n",
       "      <th>Accuracy_score</th>\n",
       "    </tr>\n",
       "  </thead>\n",
       "  <tbody>\n",
       "    <tr>\n",
       "      <th>6</th>\n",
       "      <td>XGBoost</td>\n",
       "      <td>0.899</td>\n",
       "    </tr>\n",
       "    <tr>\n",
       "      <th>7</th>\n",
       "      <td>XGBoost (Tuned)</td>\n",
       "      <td>0.899</td>\n",
       "    </tr>\n",
       "    <tr>\n",
       "      <th>5</th>\n",
       "      <td>MLP</td>\n",
       "      <td>0.898</td>\n",
       "    </tr>\n",
       "    <tr>\n",
       "      <th>3</th>\n",
       "      <td>Random Forest</td>\n",
       "      <td>0.893</td>\n",
       "    </tr>\n",
       "    <tr>\n",
       "      <th>4</th>\n",
       "      <td>SVM</td>\n",
       "      <td>0.891</td>\n",
       "    </tr>\n",
       "    <tr>\n",
       "      <th>2</th>\n",
       "      <td>Decision Tree</td>\n",
       "      <td>0.886</td>\n",
       "    </tr>\n",
       "    <tr>\n",
       "      <th>0</th>\n",
       "      <td>Logistic Regression</td>\n",
       "      <td>0.874</td>\n",
       "    </tr>\n",
       "    <tr>\n",
       "      <th>1</th>\n",
       "      <td>KNN</td>\n",
       "      <td>0.866</td>\n",
       "    </tr>\n",
       "  </tbody>\n",
       "</table>\n",
       "</div>"
      ],
      "text/plain": [
       "                Models  Accuracy_score\n",
       "6              XGBoost           0.899\n",
       "7      XGBoost (Tuned)           0.899\n",
       "5                  MLP           0.898\n",
       "3        Random Forest           0.893\n",
       "4                  SVM           0.891\n",
       "2        Decision Tree           0.886\n",
       "0  Logistic Regression           0.874\n",
       "1                  KNN           0.866"
      ]
     },
     "execution_count": 45,
     "metadata": {},
     "output_type": "execute_result"
    }
   ],
   "source": [
    "# Compare models performance\n",
    "Models = [\n",
    "    'Logistic Regression', \n",
    "    'KNN', \n",
    "    'Decision Tree', \n",
    "    'Random Forest', \n",
    "    'SVM', \n",
    "    'MLP', \n",
    "    'XGBoost', \n",
    "    'XGBoost (Tuned)'\n",
    "]\n",
    "\n",
    "Scores = [\n",
    "    accuracy_logistic, \n",
    "    accuracy_knn, \n",
    "    accuracy_tree, \n",
    "    accuracy_random_forest, \n",
    "    accuracy_svm, \n",
    "    accuracy_mlp, \n",
    "    accuracy_xgb, \n",
    "    accuracy_best\n",
    "]\n",
    "\n",
    "# Create a DataFrame for better visual comparison\n",
    "performance = pd.DataFrame(\n",
    "    list(zip(Models, Scores)), \n",
    "    columns = ['Models', 'Accuracy_score']\n",
    ").sort_values('Accuracy_score', ascending=False)\n",
    "\n",
    "# Round the accuracy scores for better readability\n",
    "performance['Accuracy_score'] = performance['Accuracy_score'].round(3)\n",
    "\n",
    "# Display the performance DataFrame\n",
    "performance"
   ]
  },
  {
   "cell_type": "markdown",
   "id": "7b07d02f",
   "metadata": {
    "papermill": {
     "duration": 0.025231,
     "end_time": "2024-10-27T01:44:19.099916",
     "exception": false,
     "start_time": "2024-10-27T01:44:19.074685",
     "status": "completed"
    },
    "tags": []
   },
   "source": [
    "So, the best-performing model is XGB with 89.9% accuracy score."
   ]
  },
  {
   "cell_type": "code",
   "execution_count": 46,
   "id": "fa91be1e",
   "metadata": {},
   "outputs": [
    {
     "data": {
      "text/plain": [
       "['diabetes_model.pkl']"
      ]
     },
     "execution_count": 46,
     "metadata": {},
     "output_type": "execute_result"
    }
   ],
   "source": [
    "import joblib\n",
    "\n",
    "# After training\n",
    "joblib.dump(best_model, 'diabetes_model.pkl')\n"
   ]
  },
  {
   "cell_type": "code",
   "execution_count": 47,
   "id": "73fba893",
   "metadata": {},
   "outputs": [
    {
     "data": {
      "text/html": [
       "<a href='diabetes_model.pkl' target='_blank'>diabetes_model.pkl</a><br>"
      ],
      "text/plain": [
       "c:\\Users\\Keshavi\\Downloads\\diabetes_app\\diabetes_model.pkl"
      ]
     },
     "execution_count": 47,
     "metadata": {},
     "output_type": "execute_result"
    }
   ],
   "source": [
    "from IPython.display import FileLink\n",
    "FileLink(r'diabetes_model.pkl')\n"
   ]
  }
 ],
 "metadata": {
  "kaggle": {
   "accelerator": "gpu",
   "dataSources": [
    {
     "datasetId": 1703281,
     "sourceId": 2789260,
     "sourceType": "datasetVersion"
    }
   ],
   "isGpuEnabled": true,
   "isInternetEnabled": true,
   "language": "python",
   "sourceType": "notebook"
  },
  "kernelspec": {
   "display_name": "Python 3",
   "language": "python",
   "name": "python3"
  },
  "language_info": {
   "codemirror_mode": {
    "name": "ipython",
    "version": 3
   },
   "file_extension": ".py",
   "mimetype": "text/x-python",
   "name": "python",
   "nbconvert_exporter": "python",
   "pygments_lexer": "ipython3",
   "version": "3.12.6"
  },
  "papermill": {
   "default_parameters": {},
   "duration": 466.996674,
   "end_time": "2024-10-27T01:44:21.795870",
   "environment_variables": {},
   "exception": null,
   "input_path": "__notebook__.ipynb",
   "output_path": "__notebook__.ipynb",
   "parameters": {},
   "start_time": "2024-10-27T01:36:34.799196",
   "version": "2.6.0"
  }
 },
 "nbformat": 4,
 "nbformat_minor": 5
}
